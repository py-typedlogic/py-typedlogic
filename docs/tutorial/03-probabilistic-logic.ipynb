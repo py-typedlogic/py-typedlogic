{
 "cells": [
  {
   "metadata": {},
   "cell_type": "markdown",
   "source": [
    "# Probabilistic Logic\n",
    "\n",
    "In this example, we will explore a probabilistic extension of logic using the [ProbLog](https://dtai.cs.kuleuven.be/problog/index.html) framework.\n",
    "\n",
    "\n",
    "\n"
   ],
   "id": "51669515d163ffc3"
  },
  {
   "metadata": {},
   "cell_type": "markdown",
   "source": [
    "## Data model\n",
    "\n",
    "Our data model will consist of:\n",
    "\n",
    "- unary predicates that represent properties of a *person*\n",
    "- binary predicates that represent relationships between *persons*\n",
    "\n",
    "   "
   ],
   "id": "69263f767074dfa9"
  },
  {
   "metadata": {
    "ExecuteTime": {
     "end_time": "2024-11-12T03:07:51.788918Z",
     "start_time": "2024-11-12T03:07:51.779568Z"
    }
   },
   "cell_type": "code",
   "source": [
    "from dataclasses import dataclass\n",
    "\n",
    "from typedlogic import FactMixin\n",
    "\n",
    "PersonID = str\n",
    "\n",
    "@dataclass\n",
    "class Person(FactMixin):\n",
    "    \"\"\"\n",
    "    An instance of a person.\n",
    "    \"\"\"\n",
    "    id: PersonID\n",
    "\n",
    "@dataclass\n",
    "class Smokes(FactMixin):\n",
    "    \"\"\"\n",
    "    A person that smokes.\n",
    "    \"\"\"\n",
    "    id: PersonID\n",
    "\n",
    "@dataclass\n",
    "class Asthma(FactMixin):\n",
    "    \"\"\"\n",
    "    A person with asthma.\n",
    "    \"\"\"\n",
    "    id: PersonID\n",
    "\n",
    "@dataclass\n",
    "class Stress(FactMixin):\n",
    "    \"\"\"\n",
    "    A person with stress.\n",
    "    \"\"\"\n",
    "    id: PersonID\n",
    "\n",
    "@dataclass\n",
    "class Friend(FactMixin):\n",
    "    \"\"\"\n",
    "    A relationship between two people where both are friends.\n",
    "    \"\"\"\n",
    "    id: PersonID\n",
    "    other_id: PersonID\n",
    "\n",
    "@dataclass\n",
    "class Influences(FactMixin):\n",
    "    \"\"\"\n",
    "    A relationship between two people where one influences the other.\n",
    "    \"\"\"\n",
    "    id: PersonID\n",
    "    other_id: PersonID"
   ],
   "id": "302a7888152437f3",
   "outputs": [],
   "execution_count": 1
  },
  {
   "metadata": {},
   "cell_type": "markdown",
   "source": "We can create data just as for any other python data model:",
   "id": "d0a27f30d388255"
  },
  {
   "metadata": {
    "ExecuteTime": {
     "end_time": "2024-11-12T03:07:51.802448Z",
     "start_time": "2024-11-12T03:07:51.799026Z"
    }
   },
   "cell_type": "code",
   "source": "Person(\"joris\")\n",
   "id": "445c1c4ad77b8f33",
   "outputs": [
    {
     "data": {
      "text/plain": [
       "Person(id='joris')"
      ]
     },
     "execution_count": 2,
     "metadata": {},
     "output_type": "execute_result"
    }
   ],
   "execution_count": 2
  },
  {
   "metadata": {
    "ExecuteTime": {
     "end_time": "2024-11-12T03:07:51.882255Z",
     "start_time": "2024-11-12T03:07:51.879541Z"
    }
   },
   "cell_type": "code",
   "source": "Friend(\"joris\", \"jonas\")",
   "id": "6904cb1b874155dd",
   "outputs": [
    {
     "data": {
      "text/plain": [
       "Friend(id='joris', other_id='jonas')"
      ]
     },
     "execution_count": 3,
     "metadata": {},
     "output_type": "execute_result"
    }
   ],
   "execution_count": 3
  },
  {
   "metadata": {},
   "cell_type": "markdown",
   "source": "We can build up a database of facts:",
   "id": "5fcf25e45d9366e6"
  },
  {
   "metadata": {
    "ExecuteTime": {
     "end_time": "2024-11-12T03:07:51.901573Z",
     "start_time": "2024-11-12T03:07:51.898112Z"
    }
   },
   "cell_type": "code",
   "source": [
    "persons_data = [\"angelika\", \"joris\", \"jonas\", \"dimitar\"]\n",
    "friends_data = [(\"joris\", \"jonas\"), (\"joris\", \"angelika\"), (\"joris\", \"dimitar\"), (\"angelika\", \"jonas\")]\n",
    "\n",
    "facts = []\n",
    "\n",
    "for person in persons_data:\n",
    "    facts.append(Person(person))\n",
    "    \n",
    "for friend in friends_data:\n",
    "    facts.append(Friend(friend[0], friend[1]))\n",
    "    \n",
    "len(facts)"
   ],
   "id": "60e56c4569eb7915",
   "outputs": [
    {
     "data": {
      "text/plain": [
       "8"
      ]
     },
     "execution_count": 4,
     "metadata": {},
     "output_type": "execute_result"
    }
   ],
   "execution_count": 4
  },
  {
   "metadata": {},
   "cell_type": "markdown",
   "source": [
    "## Logical Sentences\n",
    "\n",
    "We will now augment our data model with logical sentences for simple rules. Note that these\n",
    "rules that have the same logical semantics as previous tutorials. "
   ],
   "id": "f091ac66decb447e"
  },
  {
   "metadata": {
    "ExecuteTime": {
     "end_time": "2024-11-12T03:07:51.919126Z",
     "start_time": "2024-11-12T03:07:51.916704Z"
    }
   },
   "cell_type": "code",
   "source": [
    "from typedlogic import axiom\n",
    "\n",
    "@axiom\n",
    "def smoking_from_stress(p: PersonID):\n",
    "    \"\"\"\n",
    "    If a person has stress, they smoke.\n",
    "\n",
    "    :param p: id of the person\n",
    "    \"\"\"\n",
    "    if Stress(p):\n",
    "        assert Smokes(p)\n",
    "\n",
    "@axiom\n",
    "def smoking_from_influencer(p: PersonID, other: PersonID):\n",
    "    \"\"\"\n",
    "    If a person is influenced by another person, and that person smokes, then the influenced person smokes.\n",
    "\n",
    "    :param p: id of the person that is entailed to smoke\n",
    "    :param other: id of the person that influences the person\n",
    "    \"\"\"\n",
    "    if Friend(p, other) and Influences(other, p) and Smokes(other):\n",
    "        assert Smokes(p)"
   ],
   "id": "3aa3ab73e97f0f11",
   "outputs": [],
   "execution_count": 5
  },
  {
   "metadata": {},
   "cell_type": "markdown",
   "source": [
    "So far, our model looks similar to all other models we have seen so far. We could reason\n",
    "over data using our model using any of the solvers we have seen so far, including simple\n",
    "rule-based solvers.\n",
    "\n",
    "Next we will introduce *probabilistic sentences* to our model. We will do this using a special\n",
    "`probability` function."
   ],
   "id": "eaf1304a45f2d25c"
  },
  {
   "metadata": {},
   "cell_type": "markdown",
   "source": [
    "## Probabilistic Sentences\n",
    "\n",
    "We will augment this data model with probabilistic sentences using `probability/1`. With normal axiom-decorated\n",
    "functions, we assert a crisp logical fact. We can also assert reified probability statements of the form\n",
    "`probability(<SENTENCE>) == <PROBABILITY>`."
   ],
   "id": "2973b5d5948b90a2"
  },
  {
   "metadata": {
    "ExecuteTime": {
     "end_time": "2024-11-12T03:07:51.933141Z",
     "start_time": "2024-11-12T03:07:51.923920Z"
    }
   },
   "cell_type": "code",
   "source": [
    "from typedlogic.extensions.probabilistic import probability\n",
    "\n",
    "@axiom\n",
    "def priors_for_person(p: PersonID):\n",
    "    \"\"\"\n",
    "    Prior probabilities for a person to have stress, or\n",
    "    for a smoker to have asthma.\n",
    "\n",
    "    :param p: id of the person\n",
    "    \"\"\"\n",
    "    assert probability(Person(p) >> Stress(p)) == 0.3\n",
    "    assert probability(Smokes(p) >> Asthma(p)) == 0.4\n",
    "\n",
    "@axiom\n",
    "def priors_for_influences(p: PersonID, other: PersonID):\n",
    "    \"\"\"\n",
    "    Prior probability for one person to influence another.\n",
    "    :param p: id of the influencer\n",
    "    :param other: id of the influenced\n",
    "    \"\"\"\n",
    "    assert probability((Person(p) and Person(other)) >> Influences(p, other)) == 0.2\n"
   ],
   "id": "db0355518542d5cb",
   "outputs": [],
   "execution_count": 6
  },
  {
   "metadata": {},
   "cell_type": "markdown",
   "source": [
    "__TODO__ investigate why `>>` renders as `&gt;&gt;` in the online docs.\n",
    "\n",
    "The above program is combined into a single file in [examples/influencers.py](examples/influencers.py)."
   ],
   "id": "81d9c96c1773933"
  },
  {
   "metadata": {},
   "cell_type": "markdown",
   "source": [
    "## ProbLog Solver\n",
    "\n",
    "We will use the ProbLog solver to reason over the probabilistic logic program we have defined."
   ],
   "id": "19472cc9df27fd19"
  },
  {
   "metadata": {
    "ExecuteTime": {
     "end_time": "2024-11-12T03:07:52.645648Z",
     "start_time": "2024-11-12T03:07:51.937364Z"
    }
   },
   "cell_type": "code",
   "source": [
    "from typedlogic.registry import get_solver\n",
    "solver = get_solver(\"problog\")"
   ],
   "id": "6de332fe135efb7d",
   "outputs": [],
   "execution_count": 7
  },
  {
   "metadata": {},
   "cell_type": "markdown",
   "source": "Next we will load [examples/influencers.py](examples/influencers.py).",
   "id": "c8709e8fc93db30d"
  },
  {
   "metadata": {
    "ExecuteTime": {
     "end_time": "2024-11-12T03:07:52.656266Z",
     "start_time": "2024-11-12T03:07:52.650149Z"
    }
   },
   "cell_type": "code",
   "source": [
    "import examples.influencers as influencers\n",
    "solver.load(influencers)\n",
    "for f in facts:\n",
    "    solver.add(f)"
   ],
   "id": "6603e4d60998be58",
   "outputs": [],
   "execution_count": 8
  },
  {
   "metadata": {},
   "cell_type": "markdown",
   "source": [
    "We can now query the solver to retrieve a model. This will be a subclass of the normal `Model` class.\n",
    "\n",
    "__Note__ the concept of a Model in model-theoretic terms may not exactly apply here, but we keep the same\n",
    "concepts for consistency with other parts of this framework."
   ],
   "id": "c6827c920544b3da"
  },
  {
   "metadata": {
    "ExecuteTime": {
     "end_time": "2024-11-12T03:07:52.690358Z",
     "start_time": "2024-11-12T03:07:52.660437Z"
    }
   },
   "cell_type": "code",
   "source": "model = solver.model()",
   "id": "f877fdefb8d92cdb",
   "outputs": [],
   "execution_count": 9
  },
  {
   "metadata": {},
   "cell_type": "markdown",
   "source": "We can now retrieve the probabilities for a given predicate.",
   "id": "ee3024afc718b697"
  },
  {
   "metadata": {
    "ExecuteTime": {
     "end_time": "2024-11-12T03:07:52.699153Z",
     "start_time": "2024-11-12T03:07:52.696802Z"
    }
   },
   "cell_type": "code",
   "source": "model.retrieve_probabilities('Asthma')",
   "id": "8b886a8e1b61803a",
   "outputs": [
    {
     "data": {
      "text/plain": [
       "[(Asthma(joris), 0.169205184),\n",
       " (Asthma(dimitar), 0.12000000000000001),\n",
       " (Asthma(angelika), 0.1368),\n",
       " (Asthma(jonas), 0.12000000000000001)]"
      ]
     },
     "execution_count": 10,
     "metadata": {},
     "output_type": "execute_result"
    }
   ],
   "execution_count": 10
  },
  {
   "metadata": {},
   "cell_type": "markdown",
   "source": [
    "## Adding Evidence\n",
    "\n",
    "We can add evidence to the solver to update the probabilities.\n",
    "Note that adding evidence for one individual can propagate changes to other individuals.\n",
    "Here we will assert that Jonas has Asthma, this will increase the probability of his friends having asthma."
   ],
   "id": "399ab6cd352d99dc"
  },
  {
   "metadata": {
    "ExecuteTime": {
     "end_time": "2024-11-12T03:07:52.811232Z",
     "start_time": "2024-11-12T03:07:52.765401Z"
    }
   },
   "cell_type": "code",
   "source": [
    "from typedlogic.extensions.probabilistic import Evidence, That\n",
    "\n",
    "solver.add_evidence(Asthma(\"joris\"), True)\n",
    "model = solver.model()"
   ],
   "id": "a9ea791caefdd131",
   "outputs": [],
   "execution_count": 11
  },
  {
   "metadata": {
    "ExecuteTime": {
     "end_time": "2024-11-12T03:07:52.819919Z",
     "start_time": "2024-11-12T03:07:52.817534Z"
    }
   },
   "cell_type": "code",
   "source": "model.retrieve_probabilities('Asthma')",
   "id": "da6b379dbe793788",
   "outputs": [
    {
     "data": {
      "text/plain": [
       "[(Asthma(joris), 1.0),\n",
       " (Asthma(dimitar), 0.14437776090831828),\n",
       " (Asthma(angelika), 0.16630049348842646),\n",
       " (Asthma(jonas), 0.14749142437621768)]"
      ]
     },
     "execution_count": 12,
     "metadata": {},
     "output_type": "execute_result"
    }
   ],
   "execution_count": 12
  },
  {
   "metadata": {},
   "cell_type": "markdown",
   "source": [
    "## How it works\n",
    "\n",
    "The ProbLog solver works by converting the theorem into a ProbLog program, and then using a ProbLog.\n",
    "\n",
    "We can examine the ProbLog program that is generated:"
   ],
   "id": "27d48b7e23378b02"
  },
  {
   "metadata": {
    "ExecuteTime": {
     "end_time": "2024-11-12T03:07:52.898751Z",
     "start_time": "2024-11-12T03:07:52.895958Z"
    }
   },
   "cell_type": "code",
   "source": "print(solver.dump())",
   "id": "b1178efaf467b395",
   "outputs": [
    {
     "name": "stdout",
     "output_type": "stream",
     "text": [
      "smokes(P) :- stress(P).\n",
      "smokes(P) :- friend(P, Other), influences(Other, P), smokes(Other).\n",
      "0.3::stress(P) :- person(P).\n",
      "0.4::asthma(P) :- smokes(P).\n",
      "0.2::influences(P, Other) :- person(P), person(Other).\n",
      "person(\"angelika\").\n",
      "person(\"joris\").\n",
      "person(\"jonas\").\n",
      "person(\"dimitar\").\n",
      "friend(\"joris\", \"jonas\").\n",
      "friend(\"joris\", \"angelika\").\n",
      "friend(\"joris\", \"dimitar\").\n",
      "friend(\"angelika\", \"jonas\").\n",
      "evidence(asthma(\"joris\"), true).\n",
      "query(person(Id)).\n",
      "query(smokes(Id)).\n",
      "query(asthma(Id)).\n",
      "query(stress(Id)).\n",
      "query(friend(Id, Other_id)).\n",
      "query(influences(Id, Other_id)).\n"
     ]
    }
   ],
   "execution_count": 13
  },
  {
   "metadata": {},
   "cell_type": "markdown",
   "source": [
    "This is the same as the ProbLog program in the [ProbLog tutorial](https://dtai.cs.kuleuven.be/problog/index.html#)\n",
    "(with the addition of the `evidence` we added, and a collection of queries)."
   ],
   "id": "7535f6a36ea897fe"
  },
  {
   "metadata": {},
   "cell_type": "markdown",
   "source": [
    "## Future Work\n",
    "\n",
    "In the future other frameworks that extend probabilistic horn rules, including Markov Logic Networks, will be supported."
   ],
   "id": "4e070bdd519f3589"
  },
  {
   "metadata": {},
   "cell_type": "code",
   "outputs": [],
   "execution_count": null,
   "source": "",
   "id": "d4c2d98c3209d664"
  }
 ],
 "metadata": {
  "kernelspec": {
   "display_name": "Python 3",
   "language": "python",
   "name": "python3"
  },
  "language_info": {
   "codemirror_mode": {
    "name": "ipython",
    "version": 2
   },
   "file_extension": ".py",
   "mimetype": "text/x-python",
   "name": "python",
   "nbconvert_exporter": "python",
   "pygments_lexer": "ipython2",
   "version": "2.7.6"
  }
 },
 "nbformat": 4,
 "nbformat_minor": 5
}
