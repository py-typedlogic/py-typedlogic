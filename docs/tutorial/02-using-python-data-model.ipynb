{
 "cells": [
  {
   "metadata": {},
   "cell_type": "markdown",
   "source": [
    "# Using the Python API to create theories directly\n",
    "\n",
    "In the previous tutorial we say how to write theories as Python programs. This allows\n",
    "for management of logical sentences as Python programs.\n",
    "\n",
    "It is possible to bypass this step as use the Python [data models](../concepts/datamodel.md) directly, without\n",
    "any need for parsing from Python."
   ],
   "id": "6e80d77f04b75204"
  },
  {
   "metadata": {},
   "cell_type": "markdown",
   "source": [
    "## Creating a Theory object\n",
    "\n",
    "The top-level holder for logical sentences is a [Theory](/typedlogic/concepts/datamodel/#typedlogic.datamodel.Theory) object. Minimally a theory object can hold a number of logical *sentences*, as well as *predicate definitions*.\n",
    "\n",
    "We'll create a Theory object with minimal metadata:"
   ],
   "id": "4178db4c6a036687"
  },
  {
   "metadata": {
    "ExecuteTime": {
     "end_time": "2024-09-19T15:56:24.357457Z",
     "start_time": "2024-09-19T15:56:24.355666Z"
    }
   },
   "cell_type": "code",
   "source": [
    "from typedlogic import Theory\n",
    "\n",
    "theory = Theory(\"my theory\")"
   ],
   "id": "61cb643de9f7630f",
   "outputs": [],
   "execution_count": 16
  },
  {
   "metadata": {},
   "cell_type": "markdown",
   "source": [
    "## Adding type definitions\n",
    "\n",
    "Next we will add some definitions of *types*. This step is optional, as you can simply use base types like `str`, `int` - or even leave\n",
    "your arguments untyped.\n",
    "\n",
    "But adding custom types can help make the program more understandable, and can help catch common errors, as well as help work better with\n",
    "frameworks like Souffle that expect typing information."
   ],
   "id": "5e75e6b64175187a"
  },
  {
   "metadata": {
    "ExecuteTime": {
     "end_time": "2024-09-19T15:39:32.670853Z",
     "start_time": "2024-09-19T15:39:32.669181Z"
    }
   },
   "cell_type": "code",
   "source": [
    "theory.type_definitions = {\n",
    "    \"ID\": \"str\",\n",
    "    \"PersonID\": \"ID\",\n",
    "    \"PetID\": \"ID\",\n",
    "    \"SpeciesEnum\": \"str\",\n",
    "    \"Age\": [\"int\", \"float\"]\n",
    "}"
   ],
   "id": "61fc1fcdb7fa15ad",
   "outputs": [],
   "execution_count": 2
  },
  {
   "metadata": {},
   "cell_type": "markdown",
   "source": "Here we added some identifier types, as well as a type for stroing ages which is a union of `int` and `float`",
   "id": "a26fbf151235de"
  },
  {
   "metadata": {},
   "cell_type": "markdown",
   "source": [
    "## Adding predicate definitions\n",
    "\n",
    "Next we need to add [PredicateDefinition](/typedlogic/concepts/datamodel/#typedlogic.datamodel.PredicateDefinition)s. These are the equivalent to the\n",
    "python classes we declared in the previous tutorial. Minimally, they describe the arguments (attributes, in Python speak) which predicates (classes)\n",
    "can take."
   ],
   "id": "7e51d13e6bf1ed97"
  },
  {
   "metadata": {
    "ExecuteTime": {
     "end_time": "2024-09-19T15:39:32.759125Z",
     "start_time": "2024-09-19T15:39:32.757106Z"
    }
   },
   "cell_type": "code",
   "source": [
    "from typedlogic import PredicateDefinition\n",
    "\n",
    "\n",
    "Person = PredicateDefinition(\"Person\", {\"name\": \"PersonID\", \"age\": \"Age\"})\n",
    "Pet = PredicateDefinition(\"Pet\", {\"name\": \"PetID\", \"owner\": \"PersonID\", \"species\": \"SpeciesEnum\"})\n",
    "theory.predicate_definitions = [Person, Pet]"
   ],
   "id": "8dfcf0acd2fbd067",
   "outputs": [],
   "execution_count": 3
  },
  {
   "metadata": {},
   "cell_type": "markdown",
   "source": [
    "Here we added predicate definitions for two predicates, `Person/2`, and `Pet/3` (the `/` nomenclature is often used to denote the number of arguments).\n",
    "\n",
    "Next we will show what happens when we *compile* this to an alternative representation (here, Souffle)"
   ],
   "id": "f5fd27f2bcb1babc"
  },
  {
   "metadata": {
    "ExecuteTime": {
     "end_time": "2024-09-19T15:39:33.142014Z",
     "start_time": "2024-09-19T15:39:32.764924Z"
    }
   },
   "cell_type": "code",
   "source": [
    "from typedlogic.registry import get_compiler, get_solver\n",
    "\n",
    "compiler = get_compiler(\"souffle\")\n",
    "print(compiler.compile(theory))"
   ],
   "id": "b74767b35afa626b",
   "outputs": [
    {
     "name": "stdout",
     "output_type": "stream",
     "text": [
      ".type Id = symbol\n",
      ".type Personid = symbol\n",
      ".type Petid = symbol\n",
      ".type Speciesenum = symbol\n",
      ".type Age = number | number\n",
      ".decl Person(name: Personid, age: Age)\n",
      ".decl Pet(name: Petid, owner: Personid, species: Speciesenum)\n"
     ]
    }
   ],
   "execution_count": 4
  },
  {
   "metadata": {},
   "cell_type": "markdown",
   "source": [
    "## Adding logical sentences\n",
    "\n",
    "Here we will define a new predicate `CatOwner/1` and a rule-type axiom to infer membership."
   ],
   "id": "6b724fd1b5e4a8db"
  },
  {
   "metadata": {
    "ExecuteTime": {
     "end_time": "2024-09-19T15:39:33.208412Z",
     "start_time": "2024-09-19T15:39:33.206196Z"
    }
   },
   "cell_type": "code",
   "source": [
    "CatOwner = PredicateDefinition(\"CatOwner\", {\"name\": \"PersonID\"})\n",
    "theory.predicate_definitions.append(CatOwner)"
   ],
   "id": "899aee4329065bf",
   "outputs": [],
   "execution_count": 5
  },
  {
   "metadata": {
    "ExecuteTime": {
     "end_time": "2024-09-19T15:39:33.223082Z",
     "start_time": "2024-09-19T15:39:33.221009Z"
    }
   },
   "cell_type": "code",
   "source": [
    "from typedlogic import Term, Variable, Forall\n",
    "x = Variable(\"x\")\n",
    "y = Variable(\"y\")\n",
    "theory.add(\n",
    "    Forall([x, y],\n",
    "            Term(\"Pet\", x, y, \"CAT\") >> Term(\"CatOwner\", y)\n",
    "           )\n",
    ")"
   ],
   "id": "ec6367a5334ea545",
   "outputs": [],
   "execution_count": 6
  },
  {
   "metadata": {},
   "cell_type": "markdown",
   "source": [
    "Here the `>>` is syntactic sugar for [Implies](/typedlogic/concepts/datamodel/#typedlogic.datamodel.Imples).\n",
    "\n",
    "The [Term](/typedlogic/concepts/datamodel/#typedlogic.datamodel.Term) represents the \"atomic\" unit of sentences.\n",
    "\n",
    "Let's see what this looks like in Souffle syntax:"
   ],
   "id": "8464e0b519d64f7c"
  },
  {
   "metadata": {
    "ExecuteTime": {
     "end_time": "2024-09-19T15:39:33.231830Z",
     "start_time": "2024-09-19T15:39:33.229513Z"
    }
   },
   "cell_type": "code",
   "source": "print(compiler.compile(theory))",
   "id": "b7cacf48e7e7513c",
   "outputs": [
    {
     "name": "stdout",
     "output_type": "stream",
     "text": [
      ".type Id = symbol\n",
      ".type Personid = symbol\n",
      ".type Petid = symbol\n",
      ".type Speciesenum = symbol\n",
      ".type Age = number | number\n",
      ".decl Person(name: Personid, age: Age)\n",
      ".decl Pet(name: Petid, owner: Personid, species: Speciesenum)\n",
      ".decl CatOwner(name: Personid)\n",
      "CatOwner(y) :- Pet(x, y, \"CAT\").\n"
     ]
    }
   ],
   "execution_count": 7
  },
  {
   "metadata": {},
   "cell_type": "markdown",
   "source": [
    "## Adding ground terms (facts)\n",
    "\n",
    "Next we will add ground terms (or simply *instances* in Python speak). We will use Term objects again, but these are *ground* terms (no variables)."
   ],
   "id": "7e24a6778318e006"
  },
  {
   "metadata": {
    "ExecuteTime": {
     "end_time": "2024-09-19T15:39:33.304282Z",
     "start_time": "2024-09-19T15:39:33.302426Z"
    }
   },
   "cell_type": "code",
   "source": [
    "theory.add(Term(\"Person\", \"Freddy\", 22))\n",
    "theory.add(Term(\"Pet\", \"Mr Tickles\", \"Freddy\", \"CAT\"))\n",
    "           "
   ],
   "id": "968bab2ee5f86f1c",
   "outputs": [],
   "execution_count": 8
  },
  {
   "metadata": {},
   "cell_type": "markdown",
   "source": "",
   "id": "425960388c4428e"
  },
  {
   "metadata": {},
   "cell_type": "markdown",
   "source": [
    "\n",
    "## Using a Solver\n",
    "\n",
    "Next we will use a Solver to reason over our theory plus ground terms. We will use the Souffle solver"
   ],
   "id": "bf0f096c65a15d60"
  },
  {
   "metadata": {
    "ExecuteTime": {
     "end_time": "2024-09-19T15:39:33.328822Z",
     "start_time": "2024-09-19T15:39:33.326887Z"
    }
   },
   "cell_type": "code",
   "source": [
    "from typedlogic.registry import get_solver\n",
    "solver = get_solver(\"souffle\")\n",
    "solver.add(theory)"
   ],
   "id": "d52f2935d23f6d0d",
   "outputs": [],
   "execution_count": 10
  },
  {
   "metadata": {
    "ExecuteTime": {
     "end_time": "2024-09-19T15:40:38.359699Z",
     "start_time": "2024-09-19T15:40:38.333615Z"
    }
   },
   "cell_type": "code",
   "source": [
    "model = solver.model()\n",
    "n = 0\n",
    "for t in model.iter_retrieve(\"CatOwner\"):\n",
    "    print(t)\n",
    "    n += 1"
   ],
   "id": "7b8531d076ee2f37",
   "outputs": [
    {
     "name": "stdout",
     "output_type": "stream",
     "text": [
      "CatOwner(Freddy)\n"
     ]
    }
   ],
   "execution_count": 14
  },
  {
   "metadata": {
    "ExecuteTime": {
     "end_time": "2024-09-19T15:40:38.925152Z",
     "start_time": "2024-09-19T15:40:38.923077Z"
    }
   },
   "cell_type": "code",
   "source": "assert n == 1",
   "id": "995980ee274fce75",
   "outputs": [],
   "execution_count": 15
  },
  {
   "metadata": {
    "ExecuteTime": {
     "end_time": "2024-09-19T15:39:33.393141Z",
     "start_time": "2024-09-19T15:39:33.391767Z"
    }
   },
   "cell_type": "code",
   "source": "",
   "id": "9b207e0a19f3dffa",
   "outputs": [],
   "execution_count": null
  }
 ],
 "metadata": {
  "kernelspec": {
   "display_name": "Python 3",
   "language": "python",
   "name": "python3"
  },
  "language_info": {
   "codemirror_mode": {
    "name": "ipython",
    "version": 2
   },
   "file_extension": ".py",
   "mimetype": "text/x-python",
   "name": "python",
   "nbconvert_exporter": "python",
   "pygments_lexer": "ipython2",
   "version": "2.7.6"
  }
 },
 "nbformat": 4,
 "nbformat_minor": 5
}
