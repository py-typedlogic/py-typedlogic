{
 "cells": [
  {
   "metadata": {},
   "cell_type": "markdown",
   "source": [
    "# py-typedlogic tutorial\n",
    "\n",
    "This tutorial walks you through some of the basic features of the `typedlogic` library, and how to define logical formulae for Python data structures and programs.\n",
    "\n",
    "The tutorial makes use of a simple database of `Link` structures, which represent direct steps in a path through different US states. We will define a predicate `Path` that represents the transitive closure of the Link predicate.\n",
    "\n",
    "For example, if we have `Link`s:\n",
    "\n",
    "* `CA -> NV`\n",
    "* `NV -> AZ`\n",
    "* `AZ -> UT`\n",
    "\n",
    "Then we have 3 paths of length 1 (corresponding to the links), as well as paths of length 2 from `CA` to `AZ` and `NV` to `UT`, and a path of length 3 from `CA` to `UT`. For now, we assume unidirectional links."
   ],
   "id": "f293a00389a1b32c"
  },
  {
   "metadata": {},
   "cell_type": "markdown",
   "source": [
    "## Installation\n",
    "\n",
    "To install the core package:\n",
    "\n",
    "```bash\n",
    "pip install typedlogic\n",
    "```\n",
    "\n",
    "This tutorial makes use of the [Snakelog](/typedlogic/integrations/solvers/snakelog) and [Z3](/typedlogic/integrations/solvers/z3) integrations, so you would need these two *extras*:\n",
    "\n",
    "```bash\n",
    "pip install 'typedlogic[snakelog,z3]'\n",
    "```\n",
    "\n",
    "This tutorial is also a Jupyter notebook, which can be executed interactively."
   ],
   "id": "13369cd31ff4a21b"
  },
  {
   "metadata": {},
   "cell_type": "markdown",
   "source": [
    "## Defining our core data structures\n",
    "\n",
    "You can define your data model through a different mechanisms. Currently, the recommended ways are either\n",
    "\n",
    "- [Pydantic](https://pydantic.dev/) classes, OR\n",
    "- Python [dataclasses](https://docs.python.org/3/library/dataclasses.html)\n",
    "\n",
    "Support for other mechanisms (e.g SQLModels, Pandera) is planned.\n",
    "\n",
    "For this tutorial, we will use a ready-made pydantic file containing the definition of our data model, which will consist of two classes:\n",
    "\n",
    "- `Link`, representing a direct edge between two entities\n",
    "- `Path`, representing a path of one or more edges\n",
    "\n",
    "(For the purposes of this tutorial, we will use a `show` function to display the contents of our program,\n",
    "but this step is not necessary for everyday use).\n",
    "\n",
    "We will use this to show the contents of the [paths/model.py](paths/model.py) file."
   ],
   "id": "5767608b1f0330ef"
  },
  {
   "metadata": {
    "ExecuteTime": {
     "end_time": "2024-11-18T06:39:39.430153Z",
     "start_time": "2024-11-18T06:39:39.424709Z"
    }
   },
   "cell_type": "code",
   "source": [
    "# convenience function for running in a notebook\n",
    "from utils import show\n",
    "show(\"paths/model.py\")"
   ],
   "id": "5bc75e908a26ecc5",
   "outputs": [
    {
     "data": {
      "text/plain": [
       "from typedlogic.integrations.frameworks.pydantic import FactBaseModel\n",
       "\n",
       "ID = str\n",
       "\n",
       "class Link(FactBaseModel):\n",
       "    source: ID\n",
       "    target: ID\n",
       "\n",
       "class Path(FactBaseModel):\n",
       "    source: ID\n",
       "    target: ID\n",
       "\n"
      ],
      "text/html": [
       "<style>pre { line-height: 125%; }\n",
       "td.linenos .normal { color: inherit; background-color: transparent; padding-left: 5px; padding-right: 5px; }\n",
       "span.linenos { color: inherit; background-color: transparent; padding-left: 5px; padding-right: 5px; }\n",
       "td.linenos .special { color: #000000; background-color: #ffffc0; padding-left: 5px; padding-right: 5px; }\n",
       "span.linenos.special { color: #000000; background-color: #ffffc0; padding-left: 5px; padding-right: 5px; }\n",
       ".output_html .hll { background-color: #ffffcc }\n",
       ".output_html { background: #f8f8f8; }\n",
       ".output_html .c { color: #3D7B7B; font-style: italic } /* Comment */\n",
       ".output_html .err { border: 1px solid #FF0000 } /* Error */\n",
       ".output_html .k { color: #008000; font-weight: bold } /* Keyword */\n",
       ".output_html .o { color: #666666 } /* Operator */\n",
       ".output_html .ch { color: #3D7B7B; font-style: italic } /* Comment.Hashbang */\n",
       ".output_html .cm { color: #3D7B7B; font-style: italic } /* Comment.Multiline */\n",
       ".output_html .cp { color: #9C6500 } /* Comment.Preproc */\n",
       ".output_html .cpf { color: #3D7B7B; font-style: italic } /* Comment.PreprocFile */\n",
       ".output_html .c1 { color: #3D7B7B; font-style: italic } /* Comment.Single */\n",
       ".output_html .cs { color: #3D7B7B; font-style: italic } /* Comment.Special */\n",
       ".output_html .gd { color: #A00000 } /* Generic.Deleted */\n",
       ".output_html .ge { font-style: italic } /* Generic.Emph */\n",
       ".output_html .ges { font-weight: bold; font-style: italic } /* Generic.EmphStrong */\n",
       ".output_html .gr { color: #E40000 } /* Generic.Error */\n",
       ".output_html .gh { color: #000080; font-weight: bold } /* Generic.Heading */\n",
       ".output_html .gi { color: #008400 } /* Generic.Inserted */\n",
       ".output_html .go { color: #717171 } /* Generic.Output */\n",
       ".output_html .gp { color: #000080; font-weight: bold } /* Generic.Prompt */\n",
       ".output_html .gs { font-weight: bold } /* Generic.Strong */\n",
       ".output_html .gu { color: #800080; font-weight: bold } /* Generic.Subheading */\n",
       ".output_html .gt { color: #0044DD } /* Generic.Traceback */\n",
       ".output_html .kc { color: #008000; font-weight: bold } /* Keyword.Constant */\n",
       ".output_html .kd { color: #008000; font-weight: bold } /* Keyword.Declaration */\n",
       ".output_html .kn { color: #008000; font-weight: bold } /* Keyword.Namespace */\n",
       ".output_html .kp { color: #008000 } /* Keyword.Pseudo */\n",
       ".output_html .kr { color: #008000; font-weight: bold } /* Keyword.Reserved */\n",
       ".output_html .kt { color: #B00040 } /* Keyword.Type */\n",
       ".output_html .m { color: #666666 } /* Literal.Number */\n",
       ".output_html .s { color: #BA2121 } /* Literal.String */\n",
       ".output_html .na { color: #687822 } /* Name.Attribute */\n",
       ".output_html .nb { color: #008000 } /* Name.Builtin */\n",
       ".output_html .nc { color: #0000FF; font-weight: bold } /* Name.Class */\n",
       ".output_html .no { color: #880000 } /* Name.Constant */\n",
       ".output_html .nd { color: #AA22FF } /* Name.Decorator */\n",
       ".output_html .ni { color: #717171; font-weight: bold } /* Name.Entity */\n",
       ".output_html .ne { color: #CB3F38; font-weight: bold } /* Name.Exception */\n",
       ".output_html .nf { color: #0000FF } /* Name.Function */\n",
       ".output_html .nl { color: #767600 } /* Name.Label */\n",
       ".output_html .nn { color: #0000FF; font-weight: bold } /* Name.Namespace */\n",
       ".output_html .nt { color: #008000; font-weight: bold } /* Name.Tag */\n",
       ".output_html .nv { color: #19177C } /* Name.Variable */\n",
       ".output_html .ow { color: #AA22FF; font-weight: bold } /* Operator.Word */\n",
       ".output_html .w { color: #bbbbbb } /* Text.Whitespace */\n",
       ".output_html .mb { color: #666666 } /* Literal.Number.Bin */\n",
       ".output_html .mf { color: #666666 } /* Literal.Number.Float */\n",
       ".output_html .mh { color: #666666 } /* Literal.Number.Hex */\n",
       ".output_html .mi { color: #666666 } /* Literal.Number.Integer */\n",
       ".output_html .mo { color: #666666 } /* Literal.Number.Oct */\n",
       ".output_html .sa { color: #BA2121 } /* Literal.String.Affix */\n",
       ".output_html .sb { color: #BA2121 } /* Literal.String.Backtick */\n",
       ".output_html .sc { color: #BA2121 } /* Literal.String.Char */\n",
       ".output_html .dl { color: #BA2121 } /* Literal.String.Delimiter */\n",
       ".output_html .sd { color: #BA2121; font-style: italic } /* Literal.String.Doc */\n",
       ".output_html .s2 { color: #BA2121 } /* Literal.String.Double */\n",
       ".output_html .se { color: #AA5D1F; font-weight: bold } /* Literal.String.Escape */\n",
       ".output_html .sh { color: #BA2121 } /* Literal.String.Heredoc */\n",
       ".output_html .si { color: #A45A77; font-weight: bold } /* Literal.String.Interpol */\n",
       ".output_html .sx { color: #008000 } /* Literal.String.Other */\n",
       ".output_html .sr { color: #A45A77 } /* Literal.String.Regex */\n",
       ".output_html .s1 { color: #BA2121 } /* Literal.String.Single */\n",
       ".output_html .ss { color: #19177C } /* Literal.String.Symbol */\n",
       ".output_html .bp { color: #008000 } /* Name.Builtin.Pseudo */\n",
       ".output_html .fm { color: #0000FF } /* Name.Function.Magic */\n",
       ".output_html .vc { color: #19177C } /* Name.Variable.Class */\n",
       ".output_html .vg { color: #19177C } /* Name.Variable.Global */\n",
       ".output_html .vi { color: #19177C } /* Name.Variable.Instance */\n",
       ".output_html .vm { color: #19177C } /* Name.Variable.Magic */\n",
       ".output_html .il { color: #666666 } /* Literal.Number.Integer.Long */</style><div class=\"highlight\"><pre><span></span><span class=\"kn\">from</span> <span class=\"nn\">typedlogic.integrations.frameworks.pydantic</span> <span class=\"kn\">import</span> <span class=\"n\">FactBaseModel</span>\n",
       "\n",
       "<span class=\"n\">ID</span> <span class=\"o\">=</span> <span class=\"nb\">str</span>\n",
       "\n",
       "<span class=\"k\">class</span> <span class=\"nc\">Link</span><span class=\"p\">(</span><span class=\"n\">FactBaseModel</span><span class=\"p\">):</span>\n",
       "    <span class=\"n\">source</span><span class=\"p\">:</span> <span class=\"n\">ID</span>\n",
       "    <span class=\"n\">target</span><span class=\"p\">:</span> <span class=\"n\">ID</span>\n",
       "\n",
       "<span class=\"k\">class</span> <span class=\"nc\">Path</span><span class=\"p\">(</span><span class=\"n\">FactBaseModel</span><span class=\"p\">):</span>\n",
       "    <span class=\"n\">source</span><span class=\"p\">:</span> <span class=\"n\">ID</span>\n",
       "    <span class=\"n\">target</span><span class=\"p\">:</span> <span class=\"n\">ID</span>\n",
       "</pre></div>\n"
      ],
      "text/latex": "\\begin{Verbatim}[commandchars=\\\\\\{\\}]\n\\PY{k+kn}{from} \\PY{n+nn}{typedlogic}\\PY{n+nn}{.}\\PY{n+nn}{integrations}\\PY{n+nn}{.}\\PY{n+nn}{frameworks}\\PY{n+nn}{.}\\PY{n+nn}{pydantic} \\PY{k+kn}{import} \\PY{n}{FactBaseModel}\n\n\\PY{n}{ID} \\PY{o}{=} \\PY{n+nb}{str}\n\n\\PY{k}{class} \\PY{n+nc}{Link}\\PY{p}{(}\\PY{n}{FactBaseModel}\\PY{p}{)}\\PY{p}{:}\n    \\PY{n}{source}\\PY{p}{:} \\PY{n}{ID}\n    \\PY{n}{target}\\PY{p}{:} \\PY{n}{ID}\n\n\\PY{k}{class} \\PY{n+nc}{Path}\\PY{p}{(}\\PY{n}{FactBaseModel}\\PY{p}{)}\\PY{p}{:}\n    \\PY{n}{source}\\PY{p}{:} \\PY{n}{ID}\n    \\PY{n}{target}\\PY{p}{:} \\PY{n}{ID}\n\\end{Verbatim}\n"
     },
     "execution_count": 21,
     "metadata": {},
     "output_type": "execute_result"
    }
   ],
   "execution_count": 21
  },
  {
   "metadata": {},
   "cell_type": "markdown",
   "source": [
    "We can use this just as we would any other Pydantic schema. Here we will import it, and create instances of the `Link` class,\n",
    "representing direct connections between US states. For our purposes here, we will consider these directed."
   ],
   "id": "30c450b9fc578e8a"
  },
  {
   "metadata": {
    "ExecuteTime": {
     "end_time": "2024-11-18T06:36:12.696394Z",
     "start_time": "2024-11-18T06:36:12.641606Z"
    }
   },
   "cell_type": "code",
   "source": "from paths.model import Link",
   "id": "563b358bdfbce2c",
   "outputs": [],
   "execution_count": 2
  },
  {
   "metadata": {
    "ExecuteTime": {
     "end_time": "2024-11-18T06:36:12.775784Z",
     "start_time": "2024-11-18T06:36:12.772916Z"
    }
   },
   "cell_type": "code",
   "source": [
    "data = [(\"CA\", \"NV\"), (\"NV\", \"AZ\"), (\"AZ\", \"UT\"), (\"CA\", \"OR\"), (\"OR\", \"WA\"), (\"WA\", \"ID\"), (\"ID\", \"MT\")]\n",
    "links = [Link(source=source, target=target) for source, target in data]\n",
    "links[0:2]"
   ],
   "id": "323196dc23f575c3",
   "outputs": [
    {
     "data": {
      "text/plain": [
       "[Link(source='CA', target='NV'), Link(source='NV', target='AZ')]"
      ]
     },
     "execution_count": 3,
     "metadata": {},
     "output_type": "execute_result"
    }
   ],
   "execution_count": 3
  },
  {
   "metadata": {},
   "cell_type": "markdown",
   "source": "Because we chose to use Pydantic, we get excellent runtime validation on object creation. Our schema so far has minimal constraints, but we have declared that the types of the two fields are `strings`. This means that we will get a validation error if we try to create a `Link` with non-string values.",
   "id": "17776c0172ab897f"
  },
  {
   "metadata": {
    "ExecuteTime": {
     "end_time": "2024-11-18T06:36:12.784437Z",
     "start_time": "2024-11-18T06:36:12.782312Z"
    }
   },
   "cell_type": "code",
   "source": [
    "from pydantic import ValidationError\n",
    "\n",
    "try:\n",
    "    new_link = Link(1,2)\n",
    "except ValidationError as e:\n",
    "    print(\"We got a validation error!\")\n",
    "    print(\"** Don't worry, this is expected **\")\n",
    "    print(e)"
   ],
   "id": "cf878c92c311aa6b",
   "outputs": [
    {
     "name": "stdout",
     "output_type": "stream",
     "text": [
      "We got a validation error!\n",
      "** Don't worry, this is expected **\n",
      "2 validation errors for Link\n",
      "source\n",
      "  Input should be a valid string [type=string_type, input_value=1, input_type=int]\n",
      "    For further information visit https://errors.pydantic.dev/2.9/v/string_type\n",
      "target\n",
      "  Input should be a valid string [type=string_type, input_value=2, input_type=int]\n",
      "    For further information visit https://errors.pydantic.dev/2.9/v/string_type\n"
     ]
    }
   ],
   "execution_count": 4
  },
  {
   "metadata": {},
   "cell_type": "markdown",
   "source": "So far everything we have done in standard Pydantic! Now, onto so unique typedlogic features:",
   "id": "344b9432115f1c4e"
  },
  {
   "metadata": {},
   "cell_type": "markdown",
   "source": [
    "## Adding axioms\n",
    "\n",
    "Next we want to define *logical axioms* that determine what inferences to expect from our data model. In particular, we want to define\n",
    "axioms (in this case, simple rules) that\n",
    "\n",
    "1. Derives one-hop `Path`s from the `Link` predicate.\n",
    "2. Derives multi-hop `Path`s from the transitive closure of the one-hop `Path` predicate.\n",
    "\n",
    "We have a ready made program for doing this:"
   ],
   "id": "11a6d9dc08f17aa2"
  },
  {
   "metadata": {
    "ExecuteTime": {
     "end_time": "2024-11-18T06:36:12.817294Z",
     "start_time": "2024-11-18T06:36:12.812140Z"
    }
   },
   "cell_type": "code",
   "source": "show(\"paths/axioms.py\")",
   "id": "403d0cecd0a56f4e",
   "outputs": [
    {
     "data": {
      "text/plain": [
       "\n",
       "from paths.model import Link, Path, ID\n",
       "from typedlogic.decorators import axiom\n",
       "\n",
       "@axiom\n",
       "def link_implies_path(x: ID, y: ID):\n",
       "    \"\"\"\n",
       "    The presence of a link implies the existence of a (one-hop) path.\n",
       "    \"\"\"\n",
       "    if Link(source=x, target=y):\n",
       "        assert Path(source=x, target=y)\n",
       "\n",
       "@axiom\n",
       "def transitivity(x: ID, y: ID, z: ID):\n",
       "    \"\"\"\n",
       "    If there is a path from x to y and a path from y to z,\n",
       "    then there is a path from x to z.\n",
       "    \"\"\"\n",
       "    if Path(source=x, target=y) and Path(source=y, target=z):\n",
       "        assert Path(source=x, target=z)"
      ],
      "text/html": [
       "<style>pre { line-height: 125%; }\n",
       "td.linenos .normal { color: inherit; background-color: transparent; padding-left: 5px; padding-right: 5px; }\n",
       "span.linenos { color: inherit; background-color: transparent; padding-left: 5px; padding-right: 5px; }\n",
       "td.linenos .special { color: #000000; background-color: #ffffc0; padding-left: 5px; padding-right: 5px; }\n",
       "span.linenos.special { color: #000000; background-color: #ffffc0; padding-left: 5px; padding-right: 5px; }\n",
       ".output_html .hll { background-color: #ffffcc }\n",
       ".output_html { background: #f8f8f8; }\n",
       ".output_html .c { color: #3D7B7B; font-style: italic } /* Comment */\n",
       ".output_html .err { border: 1px solid #FF0000 } /* Error */\n",
       ".output_html .k { color: #008000; font-weight: bold } /* Keyword */\n",
       ".output_html .o { color: #666666 } /* Operator */\n",
       ".output_html .ch { color: #3D7B7B; font-style: italic } /* Comment.Hashbang */\n",
       ".output_html .cm { color: #3D7B7B; font-style: italic } /* Comment.Multiline */\n",
       ".output_html .cp { color: #9C6500 } /* Comment.Preproc */\n",
       ".output_html .cpf { color: #3D7B7B; font-style: italic } /* Comment.PreprocFile */\n",
       ".output_html .c1 { color: #3D7B7B; font-style: italic } /* Comment.Single */\n",
       ".output_html .cs { color: #3D7B7B; font-style: italic } /* Comment.Special */\n",
       ".output_html .gd { color: #A00000 } /* Generic.Deleted */\n",
       ".output_html .ge { font-style: italic } /* Generic.Emph */\n",
       ".output_html .ges { font-weight: bold; font-style: italic } /* Generic.EmphStrong */\n",
       ".output_html .gr { color: #E40000 } /* Generic.Error */\n",
       ".output_html .gh { color: #000080; font-weight: bold } /* Generic.Heading */\n",
       ".output_html .gi { color: #008400 } /* Generic.Inserted */\n",
       ".output_html .go { color: #717171 } /* Generic.Output */\n",
       ".output_html .gp { color: #000080; font-weight: bold } /* Generic.Prompt */\n",
       ".output_html .gs { font-weight: bold } /* Generic.Strong */\n",
       ".output_html .gu { color: #800080; font-weight: bold } /* Generic.Subheading */\n",
       ".output_html .gt { color: #0044DD } /* Generic.Traceback */\n",
       ".output_html .kc { color: #008000; font-weight: bold } /* Keyword.Constant */\n",
       ".output_html .kd { color: #008000; font-weight: bold } /* Keyword.Declaration */\n",
       ".output_html .kn { color: #008000; font-weight: bold } /* Keyword.Namespace */\n",
       ".output_html .kp { color: #008000 } /* Keyword.Pseudo */\n",
       ".output_html .kr { color: #008000; font-weight: bold } /* Keyword.Reserved */\n",
       ".output_html .kt { color: #B00040 } /* Keyword.Type */\n",
       ".output_html .m { color: #666666 } /* Literal.Number */\n",
       ".output_html .s { color: #BA2121 } /* Literal.String */\n",
       ".output_html .na { color: #687822 } /* Name.Attribute */\n",
       ".output_html .nb { color: #008000 } /* Name.Builtin */\n",
       ".output_html .nc { color: #0000FF; font-weight: bold } /* Name.Class */\n",
       ".output_html .no { color: #880000 } /* Name.Constant */\n",
       ".output_html .nd { color: #AA22FF } /* Name.Decorator */\n",
       ".output_html .ni { color: #717171; font-weight: bold } /* Name.Entity */\n",
       ".output_html .ne { color: #CB3F38; font-weight: bold } /* Name.Exception */\n",
       ".output_html .nf { color: #0000FF } /* Name.Function */\n",
       ".output_html .nl { color: #767600 } /* Name.Label */\n",
       ".output_html .nn { color: #0000FF; font-weight: bold } /* Name.Namespace */\n",
       ".output_html .nt { color: #008000; font-weight: bold } /* Name.Tag */\n",
       ".output_html .nv { color: #19177C } /* Name.Variable */\n",
       ".output_html .ow { color: #AA22FF; font-weight: bold } /* Operator.Word */\n",
       ".output_html .w { color: #bbbbbb } /* Text.Whitespace */\n",
       ".output_html .mb { color: #666666 } /* Literal.Number.Bin */\n",
       ".output_html .mf { color: #666666 } /* Literal.Number.Float */\n",
       ".output_html .mh { color: #666666 } /* Literal.Number.Hex */\n",
       ".output_html .mi { color: #666666 } /* Literal.Number.Integer */\n",
       ".output_html .mo { color: #666666 } /* Literal.Number.Oct */\n",
       ".output_html .sa { color: #BA2121 } /* Literal.String.Affix */\n",
       ".output_html .sb { color: #BA2121 } /* Literal.String.Backtick */\n",
       ".output_html .sc { color: #BA2121 } /* Literal.String.Char */\n",
       ".output_html .dl { color: #BA2121 } /* Literal.String.Delimiter */\n",
       ".output_html .sd { color: #BA2121; font-style: italic } /* Literal.String.Doc */\n",
       ".output_html .s2 { color: #BA2121 } /* Literal.String.Double */\n",
       ".output_html .se { color: #AA5D1F; font-weight: bold } /* Literal.String.Escape */\n",
       ".output_html .sh { color: #BA2121 } /* Literal.String.Heredoc */\n",
       ".output_html .si { color: #A45A77; font-weight: bold } /* Literal.String.Interpol */\n",
       ".output_html .sx { color: #008000 } /* Literal.String.Other */\n",
       ".output_html .sr { color: #A45A77 } /* Literal.String.Regex */\n",
       ".output_html .s1 { color: #BA2121 } /* Literal.String.Single */\n",
       ".output_html .ss { color: #19177C } /* Literal.String.Symbol */\n",
       ".output_html .bp { color: #008000 } /* Name.Builtin.Pseudo */\n",
       ".output_html .fm { color: #0000FF } /* Name.Function.Magic */\n",
       ".output_html .vc { color: #19177C } /* Name.Variable.Class */\n",
       ".output_html .vg { color: #19177C } /* Name.Variable.Global */\n",
       ".output_html .vi { color: #19177C } /* Name.Variable.Instance */\n",
       ".output_html .vm { color: #19177C } /* Name.Variable.Magic */\n",
       ".output_html .il { color: #666666 } /* Literal.Number.Integer.Long */</style><div class=\"highlight\"><pre><span></span><span class=\"kn\">from</span> <span class=\"nn\">paths.model</span> <span class=\"kn\">import</span> <span class=\"n\">Link</span><span class=\"p\">,</span> <span class=\"n\">Path</span><span class=\"p\">,</span> <span class=\"n\">ID</span>\n",
       "<span class=\"kn\">from</span> <span class=\"nn\">typedlogic.decorators</span> <span class=\"kn\">import</span> <span class=\"n\">axiom</span>\n",
       "\n",
       "<span class=\"nd\">@axiom</span>\n",
       "<span class=\"k\">def</span> <span class=\"nf\">link_implies_path</span><span class=\"p\">(</span><span class=\"n\">x</span><span class=\"p\">:</span> <span class=\"n\">ID</span><span class=\"p\">,</span> <span class=\"n\">y</span><span class=\"p\">:</span> <span class=\"n\">ID</span><span class=\"p\">):</span>\n",
       "<span class=\"w\">    </span><span class=\"sd\">&quot;&quot;&quot;</span>\n",
       "<span class=\"sd\">    The presence of a link implies the existence of a (one-hop) path.</span>\n",
       "<span class=\"sd\">    &quot;&quot;&quot;</span>\n",
       "    <span class=\"k\">if</span> <span class=\"n\">Link</span><span class=\"p\">(</span><span class=\"n\">source</span><span class=\"o\">=</span><span class=\"n\">x</span><span class=\"p\">,</span> <span class=\"n\">target</span><span class=\"o\">=</span><span class=\"n\">y</span><span class=\"p\">):</span>\n",
       "        <span class=\"k\">assert</span> <span class=\"n\">Path</span><span class=\"p\">(</span><span class=\"n\">source</span><span class=\"o\">=</span><span class=\"n\">x</span><span class=\"p\">,</span> <span class=\"n\">target</span><span class=\"o\">=</span><span class=\"n\">y</span><span class=\"p\">)</span>\n",
       "\n",
       "<span class=\"nd\">@axiom</span>\n",
       "<span class=\"k\">def</span> <span class=\"nf\">transitivity</span><span class=\"p\">(</span><span class=\"n\">x</span><span class=\"p\">:</span> <span class=\"n\">ID</span><span class=\"p\">,</span> <span class=\"n\">y</span><span class=\"p\">:</span> <span class=\"n\">ID</span><span class=\"p\">,</span> <span class=\"n\">z</span><span class=\"p\">:</span> <span class=\"n\">ID</span><span class=\"p\">):</span>\n",
       "<span class=\"w\">    </span><span class=\"sd\">&quot;&quot;&quot;</span>\n",
       "<span class=\"sd\">    If there is a path from x to y and a path from y to z,</span>\n",
       "<span class=\"sd\">    then there is a path from x to z.</span>\n",
       "<span class=\"sd\">    &quot;&quot;&quot;</span>\n",
       "    <span class=\"k\">if</span> <span class=\"n\">Path</span><span class=\"p\">(</span><span class=\"n\">source</span><span class=\"o\">=</span><span class=\"n\">x</span><span class=\"p\">,</span> <span class=\"n\">target</span><span class=\"o\">=</span><span class=\"n\">y</span><span class=\"p\">)</span> <span class=\"ow\">and</span> <span class=\"n\">Path</span><span class=\"p\">(</span><span class=\"n\">source</span><span class=\"o\">=</span><span class=\"n\">y</span><span class=\"p\">,</span> <span class=\"n\">target</span><span class=\"o\">=</span><span class=\"n\">z</span><span class=\"p\">):</span>\n",
       "        <span class=\"k\">assert</span> <span class=\"n\">Path</span><span class=\"p\">(</span><span class=\"n\">source</span><span class=\"o\">=</span><span class=\"n\">x</span><span class=\"p\">,</span> <span class=\"n\">target</span><span class=\"o\">=</span><span class=\"n\">z</span><span class=\"p\">)</span>\n",
       "</pre></div>\n"
      ],
      "text/latex": "\\begin{Verbatim}[commandchars=\\\\\\{\\}]\n\\PY{k+kn}{from} \\PY{n+nn}{paths}\\PY{n+nn}{.}\\PY{n+nn}{model} \\PY{k+kn}{import} \\PY{n}{Link}\\PY{p}{,} \\PY{n}{Path}\\PY{p}{,} \\PY{n}{ID}\n\\PY{k+kn}{from} \\PY{n+nn}{typedlogic}\\PY{n+nn}{.}\\PY{n+nn}{decorators} \\PY{k+kn}{import} \\PY{n}{axiom}\n\n\\PY{n+nd}{@axiom}\n\\PY{k}{def} \\PY{n+nf}{link\\PYZus{}implies\\PYZus{}path}\\PY{p}{(}\\PY{n}{x}\\PY{p}{:} \\PY{n}{ID}\\PY{p}{,} \\PY{n}{y}\\PY{p}{:} \\PY{n}{ID}\\PY{p}{)}\\PY{p}{:}\n\\PY{+w}{    }\\PY{l+s+sd}{\\PYZdq{}\\PYZdq{}\\PYZdq{}}\n\\PY{l+s+sd}{    The presence of a link implies the existence of a (one\\PYZhy{}hop) path.}\n\\PY{l+s+sd}{    \\PYZdq{}\\PYZdq{}\\PYZdq{}}\n    \\PY{k}{if} \\PY{n}{Link}\\PY{p}{(}\\PY{n}{source}\\PY{o}{=}\\PY{n}{x}\\PY{p}{,} \\PY{n}{target}\\PY{o}{=}\\PY{n}{y}\\PY{p}{)}\\PY{p}{:}\n        \\PY{k}{assert} \\PY{n}{Path}\\PY{p}{(}\\PY{n}{source}\\PY{o}{=}\\PY{n}{x}\\PY{p}{,} \\PY{n}{target}\\PY{o}{=}\\PY{n}{y}\\PY{p}{)}\n\n\\PY{n+nd}{@axiom}\n\\PY{k}{def} \\PY{n+nf}{transitivity}\\PY{p}{(}\\PY{n}{x}\\PY{p}{:} \\PY{n}{ID}\\PY{p}{,} \\PY{n}{y}\\PY{p}{:} \\PY{n}{ID}\\PY{p}{,} \\PY{n}{z}\\PY{p}{:} \\PY{n}{ID}\\PY{p}{)}\\PY{p}{:}\n\\PY{+w}{    }\\PY{l+s+sd}{\\PYZdq{}\\PYZdq{}\\PYZdq{}}\n\\PY{l+s+sd}{    If there is a path from x to y and a path from y to z,}\n\\PY{l+s+sd}{    then there is a path from x to z.}\n\\PY{l+s+sd}{    \\PYZdq{}\\PYZdq{}\\PYZdq{}}\n    \\PY{k}{if} \\PY{n}{Path}\\PY{p}{(}\\PY{n}{source}\\PY{o}{=}\\PY{n}{x}\\PY{p}{,} \\PY{n}{target}\\PY{o}{=}\\PY{n}{y}\\PY{p}{)} \\PY{o+ow}{and} \\PY{n}{Path}\\PY{p}{(}\\PY{n}{source}\\PY{o}{=}\\PY{n}{y}\\PY{p}{,} \\PY{n}{target}\\PY{o}{=}\\PY{n}{z}\\PY{p}{)}\\PY{p}{:}\n        \\PY{k}{assert} \\PY{n}{Path}\\PY{p}{(}\\PY{n}{source}\\PY{o}{=}\\PY{n}{x}\\PY{p}{,} \\PY{n}{target}\\PY{o}{=}\\PY{n}{z}\\PY{p}{)}\n\\end{Verbatim}\n"
     },
     "execution_count": 5,
     "metadata": {},
     "output_type": "execute_result"
    }
   ],
   "execution_count": 5
  },
  {
   "metadata": {},
   "cell_type": "markdown",
   "source": [
    "Note that typedlogic is based in Python, we can take advantage of python constructs like `import` to modularize our theory.\n",
    "\n",
    "This uses the `@axiom` decorator to define the rules. These may look a little unusual at first - they are not intended to be executed directly,\n",
    "instead they provide a *declarative specification* of the rules of our system.\n",
    "\n",
    "If you are familiar with first-order logic, you can read each decorated function as a \"forall\" (universal quantifier) statement,\n",
    "where the arguments are the (typed) variables in the quantifier. If you are not, don't worry for now. You can just read each of the axioms as a simple rule.\n",
    "\n",
    "\n"
   ],
   "id": "218a0897c8711092"
  },
  {
   "metadata": {},
   "cell_type": "markdown",
   "source": [
    "## Type Checking\n",
    "\n",
    "We can type check our program using the `validate` method on PythonParser.\n",
    "\n",
    "Behind the scenes, this is delegating to `mypy`"
   ],
   "id": "b627c4f8bd863370"
  },
  {
   "metadata": {
    "ExecuteTime": {
     "end_time": "2024-11-18T06:39:46.926963Z",
     "start_time": "2024-11-18T06:39:45.656810Z"
    }
   },
   "cell_type": "code",
   "source": [
    "from typedlogic.parsers.pyparser import PythonParser\n",
    "python_parser = PythonParser()\n",
    "import pathlib\n",
    "python_parser.validate(pathlib.Path(\"paths/axioms.py\"))"
   ],
   "id": "c6a43b4eeed6a341",
   "outputs": [
    {
     "data": {
      "text/plain": [
       "[]"
      ]
     },
     "execution_count": 22,
     "metadata": {},
     "output_type": "execute_result"
    }
   ],
   "execution_count": 22
  },
  {
   "metadata": {},
   "cell_type": "markdown",
   "source": "As expected, no issues",
   "id": "60b36f8baf938644"
  },
  {
   "metadata": {},
   "cell_type": "markdown",
   "source": [
    "## Solvers\n",
    "\n",
    "The rules are not executed directly - instead they are used as inputs for [solvers](/typedlogic/concepts/solvers/). Different solvers will operate differently, but broadly they can be thought of as fulfilling two roles:\n",
    "\n",
    "1. *Finding new facts*: Given a set of rules and a set of facts, the solver can derive new facts that are logically entailed by the rules and the facts.\n",
    "2. *Checking* whether a set of facts is consistent with the rules, or whether the rules themselves are consistent.\n",
    "\n",
    "Not all solvers are capable of fulfilling both roles, and solvers may vary in what expressions they understand and how fast they run. py-typedlogic provides as easy bridge onto a number of different solvers, through its *integrations* mechanism.\n",
    "\n",
    "We will start with a simple pure python builtin solver called [SnakeLog](/typedlogic/integrations/solvers/snakelog/). This implements only a subset of logic (formally, it is a small subset of datalog), but it has the advantage of requiring no additional installation steps, and being fast for large datasets.\n",
    "\n",
    "First we'll create the solver object, and load the axioms into it."
   ],
   "id": "a925d1111ecbcbc0"
  },
  {
   "metadata": {
    "ExecuteTime": {
     "end_time": "2024-11-18T06:36:12.900713Z",
     "start_time": "2024-11-18T06:36:12.833866Z"
    }
   },
   "cell_type": "code",
   "source": [
    "import paths.axioms as paths_axioms\n",
    "from typedlogic.integrations.solvers.snakelog import SnakeLogSolver\n",
    "solver = SnakeLogSolver()\n",
    "solver.load(paths_axioms)\n"
   ],
   "id": "5e3854034df9428f",
   "outputs": [],
   "execution_count": 6
  },
  {
   "metadata": {},
   "cell_type": "markdown",
   "source": "Next we'll add our data to the solver. In this case, we'll add the `Link` objects we created earlier.",
   "id": "1378ae700826f69b"
  },
  {
   "metadata": {
    "ExecuteTime": {
     "end_time": "2024-11-18T06:36:12.906747Z",
     "start_time": "2024-11-18T06:36:12.904997Z"
    }
   },
   "cell_type": "code",
   "source": [
    "for link in links:\n",
    "    solver.add(link)"
   ],
   "id": "6685f319278c239a",
   "outputs": [],
   "execution_count": 7
  },
  {
   "metadata": {},
   "cell_type": "markdown",
   "source": [
    "Now we will ask the solver for a [model](/typedlogic/concepts/models/).\n",
    "\n",
    "Note the term \"model\" is a bit ambiguous. If you are coming from a data modeling and Pydantic background, \"model\" means schema or data model. The use in formal systems and \"model theory\" is a bit different. For now you can think of it as representing a universe of things that might possibly be true.\n",
    "\n",
    "We'll get onto what it would mean for there to be multiple models later, but our simple snakelog solver (like many datalog systems) will just yield a single model, so we'll get that."
   ],
   "id": "252aa6954b083675"
  },
  {
   "metadata": {
    "ExecuteTime": {
     "end_time": "2024-11-18T06:36:12.914180Z",
     "start_time": "2024-11-18T06:36:12.911575Z"
    }
   },
   "cell_type": "code",
   "source": "model = solver.model()\n",
   "id": "7a751374599078b8",
   "outputs": [],
   "execution_count": 8
  },
  {
   "metadata": {},
   "cell_type": "markdown",
   "source": [
    "We can ask the model to retrieve all *ground terms* (or *facts*) that can be proved and are consistent in that model.\n",
    "\n",
    "Here we use `iter_retrieve` to get all the `Path` objects that can be derived from the axioms"
   ],
   "id": "969653b983d1a9ca"
  },
  {
   "metadata": {
    "ExecuteTime": {
     "end_time": "2024-11-18T06:36:12.925861Z",
     "start_time": "2024-11-18T06:36:12.923699Z"
    }
   },
   "cell_type": "code",
   "source": [
    "for path in model.iter_retrieve(\"Path\"):\n",
    "    print(path)"
   ],
   "id": "fa1e507bdfbe8f14",
   "outputs": [
    {
     "name": "stdout",
     "output_type": "stream",
     "text": [
      "Path(AZ, UT)\n",
      "Path(CA, AZ)\n",
      "Path(CA, ID)\n",
      "Path(CA, MT)\n",
      "Path(CA, NV)\n",
      "Path(CA, OR)\n",
      "Path(CA, UT)\n",
      "Path(CA, WA)\n",
      "Path(ID, MT)\n",
      "Path(NV, AZ)\n",
      "Path(NV, UT)\n",
      "Path(OR, ID)\n",
      "Path(OR, MT)\n",
      "Path(OR, WA)\n",
      "Path(WA, ID)\n",
      "Path(WA, MT)\n"
     ]
    }
   ],
   "execution_count": 9
  },
  {
   "metadata": {},
   "cell_type": "markdown",
   "source": [
    "We can see it has given us all transitive / multi-hop paths that can be derived from the starting facts.\n",
    "\n",
    "We can also derive the one-hop links, but this is not very interesting, corresponding to the initial database (because we provided no\n",
    "axioms to entail new links).\n",
    "\n",
    "Let's check this:"
   ],
   "id": "f8684cbff65cb743"
  },
  {
   "metadata": {
    "ExecuteTime": {
     "end_time": "2024-11-18T06:36:12.940256Z",
     "start_time": "2024-11-18T06:36:12.938052Z"
    }
   },
   "cell_type": "code",
   "source": [
    "original_links = {(link.source, link.target) for link in links}\n",
    "entailed_links = {term.values for term in model.iter_retrieve(\"Link\")}\n",
    "assert original_links == entailed_links"
   ],
   "id": "3df085e90080931c",
   "outputs": [],
   "execution_count": 10
  },
  {
   "metadata": {},
   "cell_type": "markdown",
   "source": [
    "We can encode more complex inference rules, using predicates with more arguments, encoding the complexity of our domain. We will return to some examples later.\n",
    "\n",
    "For now, let's switch to a different use case, *checking* our data and our data models."
   ],
   "id": "4f7213a161dd57bb"
  },
  {
   "metadata": {
    "ExecuteTime": {
     "end_time": "2024-11-18T06:36:12.949987Z",
     "start_time": "2024-11-18T06:36:12.948275Z"
    }
   },
   "cell_type": "code",
   "source": "",
   "id": "c7b8c72730c85596",
   "outputs": [],
   "execution_count": null
  },
  {
   "metadata": {},
   "cell_type": "markdown",
   "source": [
    "## Satisfiability Checking\n",
    "\n",
    "For this we're going to switch to a more expressive solver, the [Z3 Prover](https://github.com/Z3Prover/z3). You will need to install this as an extra, either:\n",
    "\n",
    "```bash\n",
    "pip install 'typedlogic[z3]'\n",
    "```\n",
    "\n",
    "We will set up the solver in the same way.\n",
    "\n",
    "This time we won't ask for a model, we will instead run `check` which checks for satisfiability."
   ],
   "id": "959b4f1c1649a025"
  },
  {
   "metadata": {
    "ExecuteTime": {
     "end_time": "2024-11-18T06:36:12.981305Z",
     "start_time": "2024-11-18T06:36:12.957541Z"
    }
   },
   "cell_type": "code",
   "source": [
    "from typedlogic.integrations.solvers.z3 import Z3Solver\n",
    "\n",
    "solver = Z3Solver()\n",
    "solver.load(paths_axioms)\n",
    "for link in links:\n",
    "    solver.add(link)\n",
    "solver.check()"
   ],
   "id": "36808acfd09bd923",
   "outputs": [
    {
     "data": {
      "text/plain": [
       "Solution(satisfiable=True)"
      ]
     },
     "execution_count": 11,
     "metadata": {},
     "output_type": "execute_result"
    }
   ],
   "execution_count": 11
  },
  {
   "metadata": {},
   "cell_type": "markdown",
   "source": [
    "So far so good! Our data and theory is consistent and satisfiable. But this is not surprising as we have not specified any axioms involving *negation*.\n",
    "\n",
    "Let's add an axiom that says that there are no cycles, i.e there is no path that leads back to itself. We can write this in FOL as:\n",
    "\n",
    "$$\n",
    "\\forall x. \\neg Path(x, x)\n",
    "$$\n",
    "\n",
    "But here we will write this in Python syntax using the `@axiom` decorator:\n",
    "\n",
    "```python\n",
    "@axiom\n",
    "def acyclicity(x: ID, y: ID):\n",
    "    assert not (Path(source=y, target=x) and Path(source=x, target=y))\n",
    "```\n",
    "\n",
    "Here is what our [modified program](paths/axioms_strict.py) looks like:"
   ],
   "id": "cb4da1e91879a7c7"
  },
  {
   "metadata": {
    "ExecuteTime": {
     "end_time": "2024-11-18T06:36:12.997685Z",
     "start_time": "2024-11-18T06:36:12.992513Z"
    }
   },
   "cell_type": "code",
   "source": "show(\"paths/axioms_strict.py\")\n",
   "id": "f235e91a25c27274",
   "outputs": [
    {
     "data": {
      "text/plain": [
       "\n",
       "from paths.model import Link, Path, ID\n",
       "from typedlogic.decorators import axiom\n",
       "\n",
       "@axiom\n",
       "def link_implies_path(x: ID, y: ID):\n",
       "    \"\"\"Same as before\"\"\"\n",
       "    if Link(source=x, target=y):\n",
       "        assert Path(source=x, target=y)\n",
       "\n",
       "@axiom\n",
       "def transitivity(x: ID, y: ID, z: ID):\n",
       "    \"\"\"Same as before\"\"\"\n",
       "    if Path(source=x, target=y) and Path(source=y, target=z):\n",
       "        assert Path(source=x, target=z)\n",
       "\n",
       "@axiom\n",
       "def acyclicity(x: ID, y: ID):\n",
       "    \"\"\"No path should lead from a node back to itself\"\"\"\n",
       "    assert not (Path(source=y, target=x) and Path(source=x, target=y))"
      ],
      "text/html": [
       "<style>pre { line-height: 125%; }\n",
       "td.linenos .normal { color: inherit; background-color: transparent; padding-left: 5px; padding-right: 5px; }\n",
       "span.linenos { color: inherit; background-color: transparent; padding-left: 5px; padding-right: 5px; }\n",
       "td.linenos .special { color: #000000; background-color: #ffffc0; padding-left: 5px; padding-right: 5px; }\n",
       "span.linenos.special { color: #000000; background-color: #ffffc0; padding-left: 5px; padding-right: 5px; }\n",
       ".output_html .hll { background-color: #ffffcc }\n",
       ".output_html { background: #f8f8f8; }\n",
       ".output_html .c { color: #3D7B7B; font-style: italic } /* Comment */\n",
       ".output_html .err { border: 1px solid #FF0000 } /* Error */\n",
       ".output_html .k { color: #008000; font-weight: bold } /* Keyword */\n",
       ".output_html .o { color: #666666 } /* Operator */\n",
       ".output_html .ch { color: #3D7B7B; font-style: italic } /* Comment.Hashbang */\n",
       ".output_html .cm { color: #3D7B7B; font-style: italic } /* Comment.Multiline */\n",
       ".output_html .cp { color: #9C6500 } /* Comment.Preproc */\n",
       ".output_html .cpf { color: #3D7B7B; font-style: italic } /* Comment.PreprocFile */\n",
       ".output_html .c1 { color: #3D7B7B; font-style: italic } /* Comment.Single */\n",
       ".output_html .cs { color: #3D7B7B; font-style: italic } /* Comment.Special */\n",
       ".output_html .gd { color: #A00000 } /* Generic.Deleted */\n",
       ".output_html .ge { font-style: italic } /* Generic.Emph */\n",
       ".output_html .ges { font-weight: bold; font-style: italic } /* Generic.EmphStrong */\n",
       ".output_html .gr { color: #E40000 } /* Generic.Error */\n",
       ".output_html .gh { color: #000080; font-weight: bold } /* Generic.Heading */\n",
       ".output_html .gi { color: #008400 } /* Generic.Inserted */\n",
       ".output_html .go { color: #717171 } /* Generic.Output */\n",
       ".output_html .gp { color: #000080; font-weight: bold } /* Generic.Prompt */\n",
       ".output_html .gs { font-weight: bold } /* Generic.Strong */\n",
       ".output_html .gu { color: #800080; font-weight: bold } /* Generic.Subheading */\n",
       ".output_html .gt { color: #0044DD } /* Generic.Traceback */\n",
       ".output_html .kc { color: #008000; font-weight: bold } /* Keyword.Constant */\n",
       ".output_html .kd { color: #008000; font-weight: bold } /* Keyword.Declaration */\n",
       ".output_html .kn { color: #008000; font-weight: bold } /* Keyword.Namespace */\n",
       ".output_html .kp { color: #008000 } /* Keyword.Pseudo */\n",
       ".output_html .kr { color: #008000; font-weight: bold } /* Keyword.Reserved */\n",
       ".output_html .kt { color: #B00040 } /* Keyword.Type */\n",
       ".output_html .m { color: #666666 } /* Literal.Number */\n",
       ".output_html .s { color: #BA2121 } /* Literal.String */\n",
       ".output_html .na { color: #687822 } /* Name.Attribute */\n",
       ".output_html .nb { color: #008000 } /* Name.Builtin */\n",
       ".output_html .nc { color: #0000FF; font-weight: bold } /* Name.Class */\n",
       ".output_html .no { color: #880000 } /* Name.Constant */\n",
       ".output_html .nd { color: #AA22FF } /* Name.Decorator */\n",
       ".output_html .ni { color: #717171; font-weight: bold } /* Name.Entity */\n",
       ".output_html .ne { color: #CB3F38; font-weight: bold } /* Name.Exception */\n",
       ".output_html .nf { color: #0000FF } /* Name.Function */\n",
       ".output_html .nl { color: #767600 } /* Name.Label */\n",
       ".output_html .nn { color: #0000FF; font-weight: bold } /* Name.Namespace */\n",
       ".output_html .nt { color: #008000; font-weight: bold } /* Name.Tag */\n",
       ".output_html .nv { color: #19177C } /* Name.Variable */\n",
       ".output_html .ow { color: #AA22FF; font-weight: bold } /* Operator.Word */\n",
       ".output_html .w { color: #bbbbbb } /* Text.Whitespace */\n",
       ".output_html .mb { color: #666666 } /* Literal.Number.Bin */\n",
       ".output_html .mf { color: #666666 } /* Literal.Number.Float */\n",
       ".output_html .mh { color: #666666 } /* Literal.Number.Hex */\n",
       ".output_html .mi { color: #666666 } /* Literal.Number.Integer */\n",
       ".output_html .mo { color: #666666 } /* Literal.Number.Oct */\n",
       ".output_html .sa { color: #BA2121 } /* Literal.String.Affix */\n",
       ".output_html .sb { color: #BA2121 } /* Literal.String.Backtick */\n",
       ".output_html .sc { color: #BA2121 } /* Literal.String.Char */\n",
       ".output_html .dl { color: #BA2121 } /* Literal.String.Delimiter */\n",
       ".output_html .sd { color: #BA2121; font-style: italic } /* Literal.String.Doc */\n",
       ".output_html .s2 { color: #BA2121 } /* Literal.String.Double */\n",
       ".output_html .se { color: #AA5D1F; font-weight: bold } /* Literal.String.Escape */\n",
       ".output_html .sh { color: #BA2121 } /* Literal.String.Heredoc */\n",
       ".output_html .si { color: #A45A77; font-weight: bold } /* Literal.String.Interpol */\n",
       ".output_html .sx { color: #008000 } /* Literal.String.Other */\n",
       ".output_html .sr { color: #A45A77 } /* Literal.String.Regex */\n",
       ".output_html .s1 { color: #BA2121 } /* Literal.String.Single */\n",
       ".output_html .ss { color: #19177C } /* Literal.String.Symbol */\n",
       ".output_html .bp { color: #008000 } /* Name.Builtin.Pseudo */\n",
       ".output_html .fm { color: #0000FF } /* Name.Function.Magic */\n",
       ".output_html .vc { color: #19177C } /* Name.Variable.Class */\n",
       ".output_html .vg { color: #19177C } /* Name.Variable.Global */\n",
       ".output_html .vi { color: #19177C } /* Name.Variable.Instance */\n",
       ".output_html .vm { color: #19177C } /* Name.Variable.Magic */\n",
       ".output_html .il { color: #666666 } /* Literal.Number.Integer.Long */</style><div class=\"highlight\"><pre><span></span><span class=\"kn\">from</span> <span class=\"nn\">paths.model</span> <span class=\"kn\">import</span> <span class=\"n\">Link</span><span class=\"p\">,</span> <span class=\"n\">Path</span><span class=\"p\">,</span> <span class=\"n\">ID</span>\n",
       "<span class=\"kn\">from</span> <span class=\"nn\">typedlogic.decorators</span> <span class=\"kn\">import</span> <span class=\"n\">axiom</span>\n",
       "\n",
       "<span class=\"nd\">@axiom</span>\n",
       "<span class=\"k\">def</span> <span class=\"nf\">link_implies_path</span><span class=\"p\">(</span><span class=\"n\">x</span><span class=\"p\">:</span> <span class=\"n\">ID</span><span class=\"p\">,</span> <span class=\"n\">y</span><span class=\"p\">:</span> <span class=\"n\">ID</span><span class=\"p\">):</span>\n",
       "<span class=\"w\">    </span><span class=\"sd\">&quot;&quot;&quot;Same as before&quot;&quot;&quot;</span>\n",
       "    <span class=\"k\">if</span> <span class=\"n\">Link</span><span class=\"p\">(</span><span class=\"n\">source</span><span class=\"o\">=</span><span class=\"n\">x</span><span class=\"p\">,</span> <span class=\"n\">target</span><span class=\"o\">=</span><span class=\"n\">y</span><span class=\"p\">):</span>\n",
       "        <span class=\"k\">assert</span> <span class=\"n\">Path</span><span class=\"p\">(</span><span class=\"n\">source</span><span class=\"o\">=</span><span class=\"n\">x</span><span class=\"p\">,</span> <span class=\"n\">target</span><span class=\"o\">=</span><span class=\"n\">y</span><span class=\"p\">)</span>\n",
       "\n",
       "<span class=\"nd\">@axiom</span>\n",
       "<span class=\"k\">def</span> <span class=\"nf\">transitivity</span><span class=\"p\">(</span><span class=\"n\">x</span><span class=\"p\">:</span> <span class=\"n\">ID</span><span class=\"p\">,</span> <span class=\"n\">y</span><span class=\"p\">:</span> <span class=\"n\">ID</span><span class=\"p\">,</span> <span class=\"n\">z</span><span class=\"p\">:</span> <span class=\"n\">ID</span><span class=\"p\">):</span>\n",
       "<span class=\"w\">    </span><span class=\"sd\">&quot;&quot;&quot;Same as before&quot;&quot;&quot;</span>\n",
       "    <span class=\"k\">if</span> <span class=\"n\">Path</span><span class=\"p\">(</span><span class=\"n\">source</span><span class=\"o\">=</span><span class=\"n\">x</span><span class=\"p\">,</span> <span class=\"n\">target</span><span class=\"o\">=</span><span class=\"n\">y</span><span class=\"p\">)</span> <span class=\"ow\">and</span> <span class=\"n\">Path</span><span class=\"p\">(</span><span class=\"n\">source</span><span class=\"o\">=</span><span class=\"n\">y</span><span class=\"p\">,</span> <span class=\"n\">target</span><span class=\"o\">=</span><span class=\"n\">z</span><span class=\"p\">):</span>\n",
       "        <span class=\"k\">assert</span> <span class=\"n\">Path</span><span class=\"p\">(</span><span class=\"n\">source</span><span class=\"o\">=</span><span class=\"n\">x</span><span class=\"p\">,</span> <span class=\"n\">target</span><span class=\"o\">=</span><span class=\"n\">z</span><span class=\"p\">)</span>\n",
       "\n",
       "<span class=\"nd\">@axiom</span>\n",
       "<span class=\"k\">def</span> <span class=\"nf\">acyclicity</span><span class=\"p\">(</span><span class=\"n\">x</span><span class=\"p\">:</span> <span class=\"n\">ID</span><span class=\"p\">,</span> <span class=\"n\">y</span><span class=\"p\">:</span> <span class=\"n\">ID</span><span class=\"p\">):</span>\n",
       "<span class=\"w\">    </span><span class=\"sd\">&quot;&quot;&quot;No path should lead from a node back to itself&quot;&quot;&quot;</span>\n",
       "    <span class=\"k\">assert</span> <span class=\"ow\">not</span> <span class=\"p\">(</span><span class=\"n\">Path</span><span class=\"p\">(</span><span class=\"n\">source</span><span class=\"o\">=</span><span class=\"n\">y</span><span class=\"p\">,</span> <span class=\"n\">target</span><span class=\"o\">=</span><span class=\"n\">x</span><span class=\"p\">)</span> <span class=\"ow\">and</span> <span class=\"n\">Path</span><span class=\"p\">(</span><span class=\"n\">source</span><span class=\"o\">=</span><span class=\"n\">x</span><span class=\"p\">,</span> <span class=\"n\">target</span><span class=\"o\">=</span><span class=\"n\">y</span><span class=\"p\">))</span>\n",
       "</pre></div>\n"
      ],
      "text/latex": "\\begin{Verbatim}[commandchars=\\\\\\{\\}]\n\\PY{k+kn}{from} \\PY{n+nn}{paths}\\PY{n+nn}{.}\\PY{n+nn}{model} \\PY{k+kn}{import} \\PY{n}{Link}\\PY{p}{,} \\PY{n}{Path}\\PY{p}{,} \\PY{n}{ID}\n\\PY{k+kn}{from} \\PY{n+nn}{typedlogic}\\PY{n+nn}{.}\\PY{n+nn}{decorators} \\PY{k+kn}{import} \\PY{n}{axiom}\n\n\\PY{n+nd}{@axiom}\n\\PY{k}{def} \\PY{n+nf}{link\\PYZus{}implies\\PYZus{}path}\\PY{p}{(}\\PY{n}{x}\\PY{p}{:} \\PY{n}{ID}\\PY{p}{,} \\PY{n}{y}\\PY{p}{:} \\PY{n}{ID}\\PY{p}{)}\\PY{p}{:}\n\\PY{+w}{    }\\PY{l+s+sd}{\\PYZdq{}\\PYZdq{}\\PYZdq{}Same as before\\PYZdq{}\\PYZdq{}\\PYZdq{}}\n    \\PY{k}{if} \\PY{n}{Link}\\PY{p}{(}\\PY{n}{source}\\PY{o}{=}\\PY{n}{x}\\PY{p}{,} \\PY{n}{target}\\PY{o}{=}\\PY{n}{y}\\PY{p}{)}\\PY{p}{:}\n        \\PY{k}{assert} \\PY{n}{Path}\\PY{p}{(}\\PY{n}{source}\\PY{o}{=}\\PY{n}{x}\\PY{p}{,} \\PY{n}{target}\\PY{o}{=}\\PY{n}{y}\\PY{p}{)}\n\n\\PY{n+nd}{@axiom}\n\\PY{k}{def} \\PY{n+nf}{transitivity}\\PY{p}{(}\\PY{n}{x}\\PY{p}{:} \\PY{n}{ID}\\PY{p}{,} \\PY{n}{y}\\PY{p}{:} \\PY{n}{ID}\\PY{p}{,} \\PY{n}{z}\\PY{p}{:} \\PY{n}{ID}\\PY{p}{)}\\PY{p}{:}\n\\PY{+w}{    }\\PY{l+s+sd}{\\PYZdq{}\\PYZdq{}\\PYZdq{}Same as before\\PYZdq{}\\PYZdq{}\\PYZdq{}}\n    \\PY{k}{if} \\PY{n}{Path}\\PY{p}{(}\\PY{n}{source}\\PY{o}{=}\\PY{n}{x}\\PY{p}{,} \\PY{n}{target}\\PY{o}{=}\\PY{n}{y}\\PY{p}{)} \\PY{o+ow}{and} \\PY{n}{Path}\\PY{p}{(}\\PY{n}{source}\\PY{o}{=}\\PY{n}{y}\\PY{p}{,} \\PY{n}{target}\\PY{o}{=}\\PY{n}{z}\\PY{p}{)}\\PY{p}{:}\n        \\PY{k}{assert} \\PY{n}{Path}\\PY{p}{(}\\PY{n}{source}\\PY{o}{=}\\PY{n}{x}\\PY{p}{,} \\PY{n}{target}\\PY{o}{=}\\PY{n}{z}\\PY{p}{)}\n\n\\PY{n+nd}{@axiom}\n\\PY{k}{def} \\PY{n+nf}{acyclicity}\\PY{p}{(}\\PY{n}{x}\\PY{p}{:} \\PY{n}{ID}\\PY{p}{,} \\PY{n}{y}\\PY{p}{:} \\PY{n}{ID}\\PY{p}{)}\\PY{p}{:}\n\\PY{+w}{    }\\PY{l+s+sd}{\\PYZdq{}\\PYZdq{}\\PYZdq{}No path should lead from a node back to itself\\PYZdq{}\\PYZdq{}\\PYZdq{}}\n    \\PY{k}{assert} \\PY{o+ow}{not} \\PY{p}{(}\\PY{n}{Path}\\PY{p}{(}\\PY{n}{source}\\PY{o}{=}\\PY{n}{y}\\PY{p}{,} \\PY{n}{target}\\PY{o}{=}\\PY{n}{x}\\PY{p}{)} \\PY{o+ow}{and} \\PY{n}{Path}\\PY{p}{(}\\PY{n}{source}\\PY{o}{=}\\PY{n}{x}\\PY{p}{,} \\PY{n}{target}\\PY{o}{=}\\PY{n}{y}\\PY{p}{)}\\PY{p}{)}\n\\end{Verbatim}\n"
     },
     "execution_count": 12,
     "metadata": {},
     "output_type": "execute_result"
    }
   ],
   "execution_count": 12
  },
  {
   "metadata": {},
   "cell_type": "markdown",
   "source": "Now let's set up the solver with the new axioms and check for satisfiability again. We will also add a link that creates a cycle.",
   "id": "36a7e06d7f33cb6c"
  },
  {
   "metadata": {
    "ExecuteTime": {
     "end_time": "2024-11-18T06:36:13.012753Z",
     "start_time": "2024-11-18T06:36:13.005579Z"
    }
   },
   "cell_type": "code",
   "source": [
    "solver = Z3Solver()\n",
    "import paths.axioms_strict as paths_axioms_strict\n",
    "solver.load(paths_axioms_strict)\n",
    "for link in links:\n",
    "    solver.add(link)\n",
    "solver.add(Link(source=\"MT\", target=\"CA\"))\n",
    "solver.check().satisfiable"
   ],
   "id": "85f2bbddb1661c73",
   "outputs": [
    {
     "data": {
      "text/plain": [
       "False"
      ]
     },
     "execution_count": 13,
     "metadata": {},
     "output_type": "execute_result"
    }
   ],
   "execution_count": 13
  },
  {
   "metadata": {},
   "cell_type": "markdown",
   "source": [
    "Hurrah! As expected, the solver has found that the data is not satisfiable, because we have added a cycle.\n",
    "\n",
    "Currently there is no single easy way to see an explanation, but this will be provided in the future.\n"
   ],
   "id": "c31b7bc849c2b19a"
  },
  {
   "metadata": {},
   "cell_type": "markdown",
   "source": [
    "## Multiple Models\n",
    "\n",
    "Next we will explore what happens when we add sentences that lead to multiple possible worlds in which all sentences are true.\n",
    "These separate \"worlds\" are typically called \"models\" in formal logic.\n",
    "\n",
    "We will use the Clingo solver, which is based on Answer Set Programming (ASP) which allows for enumeration of these models.\n",
    "\n",
    "We will set up our base knowledge base as before:"
   ],
   "id": "74b7a3d2f2380b28"
  },
  {
   "metadata": {
    "ExecuteTime": {
     "end_time": "2024-11-18T06:36:13.029488Z",
     "start_time": "2024-11-18T06:36:13.020123Z"
    }
   },
   "cell_type": "code",
   "source": [
    "from typedlogic.integrations.solvers.clingo import ClingoSolver\n",
    "solver = ClingoSolver()\n",
    "import paths.axioms_strict as paths_axioms_strict\n",
    "solver.load(paths_axioms_strict)\n",
    "for link in links:\n",
    "    solver.add(link)\n"
   ],
   "id": "c88968f6e52887f2",
   "outputs": [],
   "execution_count": 14
  },
  {
   "metadata": {},
   "cell_type": "markdown",
   "source": " Next we'll add uncertainly using the `ExactlyOne` boolean sentence type:",
   "id": "7bf7b3ea542b4f3d"
  },
  {
   "metadata": {
    "ExecuteTime": {
     "end_time": "2024-11-18T06:36:13.036635Z",
     "start_time": "2024-11-18T06:36:13.034739Z"
    }
   },
   "cell_type": "code",
   "source": [
    "from typedlogic import ExactlyOne\n",
    "solver.add(ExactlyOne(Link(\"MT\", \"ND\"), Link(\"MT\", \"SD\")))"
   ],
   "id": "6b46d232bc9bab2b",
   "outputs": [],
   "execution_count": 15
  },
  {
   "metadata": {},
   "cell_type": "markdown",
   "source": "We'll check this gives two worlds:",
   "id": "d401d1e0352e6a8b"
  },
  {
   "metadata": {
    "ExecuteTime": {
     "end_time": "2024-11-18T06:36:13.045645Z",
     "start_time": "2024-11-18T06:36:13.041740Z"
    }
   },
   "cell_type": "code",
   "source": [
    "models = list(solver.models())\n",
    "assert len(models) == 2"
   ],
   "id": "c3661b637f8c8202",
   "outputs": [],
   "execution_count": 16
  },
  {
   "metadata": {},
   "cell_type": "markdown",
   "source": "Next we will explore which paths are present in each world:",
   "id": "219a4deab5620992"
  },
  {
   "metadata": {
    "ExecuteTime": {
     "end_time": "2024-11-18T06:36:13.052173Z",
     "start_time": "2024-11-18T06:36:13.049949Z"
    }
   },
   "cell_type": "code",
   "source": [
    "for n, model in enumerate(models):\n",
    "    print(f\"Model: {n}\")\n",
    "    for t in model.iter_retrieve(\"Path\", \"CA\", \"ND\"):\n",
    "        print(f\" has path CA to ND: {t}\")\n",
    "    for t in model.iter_retrieve(\"Path\", \"CA\", \"SD\"):\n",
    "        print(f\" has path CA to SD: {t}\")\n",
    "    "
   ],
   "id": "e418ea3520da805b",
   "outputs": [
    {
     "name": "stdout",
     "output_type": "stream",
     "text": [
      "Model: 0\n",
      " has path CA to SD: Path(CA, SD)\n",
      "Model: 1\n",
      " has path CA to ND: Path(CA, ND)\n"
     ]
    }
   ],
   "execution_count": 17
  },
  {
   "metadata": {},
   "cell_type": "markdown",
   "source": [
    "As expected there is one world with a path from CA to SD, and another with a path from CA to ND.\n",
    "\n",
    "We can collapse the number of universes by ruling out a path. So far we have only asserted the base one-hop links, but there is nothing to\n",
    "stop us making assertions about multi-hop paths. We can do this by adding a negation of a path to the solver, here stating there is no path from CA to ND:"
   ],
   "id": "d431aa980f598ff6"
  },
  {
   "metadata": {
    "ExecuteTime": {
     "end_time": "2024-11-18T06:36:13.061949Z",
     "start_time": "2024-11-18T06:36:13.060350Z"
    }
   },
   "cell_type": "code",
   "source": [
    "from paths.model import Path\n",
    "solver.add(~Path(\"CA\", \"ND\"))"
   ],
   "id": "e69f1393c8eab554",
   "outputs": [],
   "execution_count": 18
  },
  {
   "metadata": {},
   "cell_type": "markdown",
   "source": "This will collapse the number of models to one:",
   "id": "c73939877b09a707"
  },
  {
   "metadata": {
    "ExecuteTime": {
     "end_time": "2024-11-18T06:36:13.070889Z",
     "start_time": "2024-11-18T06:36:13.067308Z"
    }
   },
   "cell_type": "code",
   "source": [
    "models = list(solver.models())\n",
    "assert len(models) == 1"
   ],
   "id": "e84d2e3b6974be0c",
   "outputs": [],
   "execution_count": 19
  },
  {
   "metadata": {
    "ExecuteTime": {
     "end_time": "2024-11-18T06:36:13.077424Z",
     "start_time": "2024-11-18T06:36:13.076219Z"
    }
   },
   "cell_type": "code",
   "source": "",
   "id": "80882f91e0740a30",
   "outputs": [],
   "execution_count": null
  }
 ],
 "metadata": {
  "kernelspec": {
   "display_name": "Python 3",
   "language": "python",
   "name": "python3"
  },
  "language_info": {
   "codemirror_mode": {
    "name": "ipython",
    "version": 2
   },
   "file_extension": ".py",
   "mimetype": "text/x-python",
   "name": "python",
   "nbconvert_exporter": "python",
   "pygments_lexer": "ipython2",
   "version": "2.7.6"
  }
 },
 "nbformat": 4,
 "nbformat_minor": 5
}
