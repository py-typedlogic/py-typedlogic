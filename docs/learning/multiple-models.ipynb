{
 "cells": [
  {
   "cell_type": "code",
   "id": "initial_id",
   "metadata": {
    "collapsed": true,
    "ExecuteTime": {
     "end_time": "2024-09-13T01:23:46.811438Z",
     "start_time": "2024-09-13T01:23:46.760295Z"
    }
   },
   "source": [
    "from typing import Union\n",
    "from pydantic import BaseModel\n",
    "\n",
    "class Organization(BaseModel):\n",
    "    name: str\n",
    "    address: str\n",
    "\n",
    "class Person(BaseModel):\n",
    "    name: str\n",
    "    address: str\n",
    "    year_of_birth: int\n",
    "    \n",
    "\n",
    "\n",
    "class Device(BaseModel):\n",
    "    name: str\n",
    "    manufactured_by: Union[Person, Organization]"
   ],
   "outputs": [],
   "execution_count": 1
  },
  {
   "metadata": {
    "ExecuteTime": {
     "end_time": "2024-09-13T01:23:46.997486Z",
     "start_time": "2024-09-13T01:23:46.994114Z"
    }
   },
   "cell_type": "code",
   "source": [
    "my_device = Device(name=\"my_device\", manufactured_by={\"name\": \"John Doe\", \"address\": \"123 Main St.\", \"year_of_birth\": 1980})\n",
    "type(my_device.manufactured_by)"
   ],
   "id": "639263ba391d096a",
   "outputs": [
    {
     "data": {
      "text/plain": [
       "__main__.Person"
      ]
     },
     "execution_count": 2,
     "metadata": {},
     "output_type": "execute_result"
    }
   ],
   "execution_count": 2
  },
  {
   "metadata": {
    "ExecuteTime": {
     "end_time": "2024-09-13T01:23:48.137628Z",
     "start_time": "2024-09-13T01:23:48.134061Z"
    }
   },
   "cell_type": "code",
   "source": [
    "my_device = Device(name=\"my_device\", manufactured_by={\"name\": \"John Doe\", \"address\": \"123 Main St.\"})\n",
    "type(my_device.manufactured_by)"
   ],
   "id": "92f66ea8c902a198",
   "outputs": [
    {
     "data": {
      "text/plain": [
       "__main__.Organization"
      ]
     },
     "execution_count": 3,
     "metadata": {},
     "output_type": "execute_result"
    }
   ],
   "execution_count": 3
  },
  {
   "metadata": {
    "ExecuteTime": {
     "end_time": "2024-09-13T01:23:49.121066Z",
     "start_time": "2024-09-13T01:23:49.118491Z"
    }
   },
   "cell_type": "code",
   "source": [
    "try:\n",
    "    my_device.manufactured_by.year_of_birth = 1980\n",
    "except ValueError as e:\n",
    "    print(e)"
   ],
   "id": "5c9aafb17cf659ef",
   "outputs": [
    {
     "name": "stdout",
     "output_type": "stream",
     "text": [
      "\"Organization\" object has no field \"year_of_birth\"\n"
     ]
    }
   ],
   "execution_count": 4
  },
  {
   "metadata": {
    "ExecuteTime": {
     "end_time": "2024-09-13T01:23:50.752194Z",
     "start_time": "2024-09-13T01:23:50.748698Z"
    }
   },
   "cell_type": "code",
   "source": [
    "my_device_dict = my_device.model_dump()\n",
    "my_device_dict\n"
   ],
   "id": "fe76c54bedeb7115",
   "outputs": [
    {
     "data": {
      "text/plain": [
       "{'name': 'my_device',\n",
       " 'manufactured_by': {'name': 'John Doe', 'address': '123 Main St.'}}"
      ]
     },
     "execution_count": 5,
     "metadata": {},
     "output_type": "execute_result"
    }
   ],
   "execution_count": 5
  },
  {
   "metadata": {
    "ExecuteTime": {
     "end_time": "2024-09-13T01:23:51.669988Z",
     "start_time": "2024-09-13T01:23:51.655418Z"
    }
   },
   "cell_type": "code",
   "source": [
    "import typedlogic.theories.jsonlog.loader as jsonlog_loader\n",
    "\n",
    "facts = list(jsonlog_loader.generate_from_object(my_device_dict))"
   ],
   "id": "4cb3507cd2527bb7",
   "outputs": [],
   "execution_count": 6
  },
  {
   "metadata": {
    "ExecuteTime": {
     "end_time": "2024-09-13T01:23:52.534499Z",
     "start_time": "2024-09-13T01:23:52.530423Z"
    }
   },
   "cell_type": "code",
   "source": "facts",
   "id": "245a00c42031b04a",
   "outputs": [
    {
     "data": {
      "text/plain": [
       "[NodeIsObject(loc='/'),\n",
       " ObjectNodeLookup(loc='/', key='name', member='/name/'),\n",
       " NodeIsLiteral(loc='/name/'),\n",
       " NodeStringValue(loc='/name/', value='my_device'),\n",
       " ObjectNodeLookup(loc='/', key='manufactured_by', member='/manufactured_by/'),\n",
       " NodeIsObject(loc='/manufactured_by/'),\n",
       " ObjectNodeLookup(loc='/manufactured_by/', key='name', member='/manufactured_by/name/'),\n",
       " NodeIsLiteral(loc='/manufactured_by/name/'),\n",
       " NodeStringValue(loc='/manufactured_by/name/', value='John Doe'),\n",
       " ObjectNodeLookup(loc='/manufactured_by/', key='address', member='/manufactured_by/address/'),\n",
       " NodeIsLiteral(loc='/manufactured_by/address/'),\n",
       " NodeStringValue(loc='/manufactured_by/address/', value='123 Main St.')]"
      ]
     },
     "execution_count": 7,
     "metadata": {},
     "output_type": "execute_result"
    }
   ],
   "execution_count": 7
  },
  {
   "metadata": {},
   "cell_type": "code",
   "outputs": [],
   "execution_count": null,
   "source": "\n",
   "id": "ed1478de6d9b3554"
  }
 ],
 "metadata": {
  "kernelspec": {
   "display_name": "Python 3",
   "language": "python",
   "name": "python3"
  },
  "language_info": {
   "codemirror_mode": {
    "name": "ipython",
    "version": 2
   },
   "file_extension": ".py",
   "mimetype": "text/x-python",
   "name": "python",
   "nbconvert_exporter": "python",
   "pygments_lexer": "ipython2",
   "version": "2.7.6"
  }
 },
 "nbformat": 4,
 "nbformat_minor": 5
}
