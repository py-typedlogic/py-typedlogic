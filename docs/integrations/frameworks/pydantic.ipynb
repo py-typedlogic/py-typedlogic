{
 "cells": [
  {
   "metadata": {},
   "cell_type": "markdown",
   "source": [
    "# Pydantic Integration\n",
    "\n",
    "![Pydantic Logo](https://avatars.githubusercontent.com/u/110818415?s=200&v=4)\n",
    "\n",
    "With typed-logic, you can use whatever framework you like to define the classes\n",
    "that specify *predicate definitions* in your theory:\n",
    "\n",
    "- Python `dataclasses` (part of the Python standard)\n",
    "- Hand-rolled classes\n",
    "- Pydantic\n",
    "\n",
    "The only requirement is that you inherit from `Fact` or `FactMixin`, *or* declare your class\n",
    "to be a predicate definition with `@predicate`. For convenience, there is a ready-made base class for you to use.\n",
    "\n",
    "However, there are some specific considerations for Pydantic due to its aversion to *positional arguments*.\n"
   ],
   "id": "d1d531393dfc0ef9"
  },
  {
   "metadata": {},
   "cell_type": "markdown",
   "source": "## Using the Pydantic bridge",
   "id": "c033bb46fb3363f9"
  },
  {
   "metadata": {
    "ExecuteTime": {
     "end_time": "2024-09-16T13:22:06.120116Z",
     "start_time": "2024-09-16T13:22:06.115253Z"
    }
   },
   "cell_type": "code",
   "source": [
    "from typedlogic.integrations.frameworks.pydantic import FactBaseModel\n",
    "from pydantic import Field\n",
    "\n",
    "class Person(FactBaseModel):\n",
    "    name: str = Field(..., description=\"unique name of the person\")\n",
    "    age: int = Field(..., description=\"age in years\", ge=0)"
   ],
   "id": "79708377a945229e",
   "outputs": [],
   "execution_count": 6
  },
  {
   "metadata": {
    "ExecuteTime": {
     "end_time": "2024-09-16T13:22:06.628074Z",
     "start_time": "2024-09-16T13:22:06.625326Z"
    }
   },
   "cell_type": "code",
   "source": "Person(\"Akira\", 20)",
   "id": "172179cab22b48e2",
   "outputs": [
    {
     "data": {
      "text/plain": [
       "Person(name='Akira', age=20)"
      ]
     },
     "execution_count": 7,
     "metadata": {},
     "output_type": "execute_result"
    }
   ],
   "execution_count": 7
  },
  {
   "metadata": {
    "ExecuteTime": {
     "end_time": "2024-09-16T13:22:07.196876Z",
     "start_time": "2024-09-16T13:22:07.194656Z"
    }
   },
   "cell_type": "code",
   "source": [
    "from pydantic import Field, ValidationError\n",
    "\n",
    "try:\n",
    "    Person(\"Akira\", \"20 years\")\n",
    "except ValidationError as e:\n",
    "    print(\"Got in error (this is expected!)\")\n",
    "    print(e)"
   ],
   "id": "cbcb4a98a690219c",
   "outputs": [
    {
     "name": "stdout",
     "output_type": "stream",
     "text": [
      "Got in error (this is expected!)\n",
      "1 validation error for Person\n",
      "age\n",
      "  Input should be a valid integer, unable to parse string as an integer [type=int_parsing, input_value='20 years', input_type=str]\n",
      "    For further information visit https://errors.pydantic.dev/2.9/v/int_parsing\n"
     ]
    }
   ],
   "execution_count": 8
  },
  {
   "metadata": {
    "ExecuteTime": {
     "end_time": "2024-09-16T13:25:02.688097Z",
     "start_time": "2024-09-16T13:25:02.682502Z"
    }
   },
   "cell_type": "code",
   "source": [
    "from utils import show\n",
    "show(\"examples/pydantic_example.py\")"
   ],
   "id": "43c3fdf573722fa4",
   "outputs": [
    {
     "data": {
      "text/plain": [
       "from typedlogic.integrations.frameworks.pydantic import FactBaseModel\n",
       "from pydantic import Field\n",
       "\n",
       "class Person(FactBaseModel):\n",
       "    name: str = Field(..., description=\"unique name of the person\")\n",
       "    age: int = Field(..., description=\"age in years\", ge=0)"
      ],
      "text/html": [
       "<style>pre { line-height: 125%; }\n",
       "td.linenos .normal { color: inherit; background-color: transparent; padding-left: 5px; padding-right: 5px; }\n",
       "span.linenos { color: inherit; background-color: transparent; padding-left: 5px; padding-right: 5px; }\n",
       "td.linenos .special { color: #000000; background-color: #ffffc0; padding-left: 5px; padding-right: 5px; }\n",
       "span.linenos.special { color: #000000; background-color: #ffffc0; padding-left: 5px; padding-right: 5px; }\n",
       ".output_html .hll { background-color: #ffffcc }\n",
       ".output_html { background: #f8f8f8; }\n",
       ".output_html .c { color: #3D7B7B; font-style: italic } /* Comment */\n",
       ".output_html .err { border: 1px solid #FF0000 } /* Error */\n",
       ".output_html .k { color: #008000; font-weight: bold } /* Keyword */\n",
       ".output_html .o { color: #666666 } /* Operator */\n",
       ".output_html .ch { color: #3D7B7B; font-style: italic } /* Comment.Hashbang */\n",
       ".output_html .cm { color: #3D7B7B; font-style: italic } /* Comment.Multiline */\n",
       ".output_html .cp { color: #9C6500 } /* Comment.Preproc */\n",
       ".output_html .cpf { color: #3D7B7B; font-style: italic } /* Comment.PreprocFile */\n",
       ".output_html .c1 { color: #3D7B7B; font-style: italic } /* Comment.Single */\n",
       ".output_html .cs { color: #3D7B7B; font-style: italic } /* Comment.Special */\n",
       ".output_html .gd { color: #A00000 } /* Generic.Deleted */\n",
       ".output_html .ge { font-style: italic } /* Generic.Emph */\n",
       ".output_html .ges { font-weight: bold; font-style: italic } /* Generic.EmphStrong */\n",
       ".output_html .gr { color: #E40000 } /* Generic.Error */\n",
       ".output_html .gh { color: #000080; font-weight: bold } /* Generic.Heading */\n",
       ".output_html .gi { color: #008400 } /* Generic.Inserted */\n",
       ".output_html .go { color: #717171 } /* Generic.Output */\n",
       ".output_html .gp { color: #000080; font-weight: bold } /* Generic.Prompt */\n",
       ".output_html .gs { font-weight: bold } /* Generic.Strong */\n",
       ".output_html .gu { color: #800080; font-weight: bold } /* Generic.Subheading */\n",
       ".output_html .gt { color: #0044DD } /* Generic.Traceback */\n",
       ".output_html .kc { color: #008000; font-weight: bold } /* Keyword.Constant */\n",
       ".output_html .kd { color: #008000; font-weight: bold } /* Keyword.Declaration */\n",
       ".output_html .kn { color: #008000; font-weight: bold } /* Keyword.Namespace */\n",
       ".output_html .kp { color: #008000 } /* Keyword.Pseudo */\n",
       ".output_html .kr { color: #008000; font-weight: bold } /* Keyword.Reserved */\n",
       ".output_html .kt { color: #B00040 } /* Keyword.Type */\n",
       ".output_html .m { color: #666666 } /* Literal.Number */\n",
       ".output_html .s { color: #BA2121 } /* Literal.String */\n",
       ".output_html .na { color: #687822 } /* Name.Attribute */\n",
       ".output_html .nb { color: #008000 } /* Name.Builtin */\n",
       ".output_html .nc { color: #0000FF; font-weight: bold } /* Name.Class */\n",
       ".output_html .no { color: #880000 } /* Name.Constant */\n",
       ".output_html .nd { color: #AA22FF } /* Name.Decorator */\n",
       ".output_html .ni { color: #717171; font-weight: bold } /* Name.Entity */\n",
       ".output_html .ne { color: #CB3F38; font-weight: bold } /* Name.Exception */\n",
       ".output_html .nf { color: #0000FF } /* Name.Function */\n",
       ".output_html .nl { color: #767600 } /* Name.Label */\n",
       ".output_html .nn { color: #0000FF; font-weight: bold } /* Name.Namespace */\n",
       ".output_html .nt { color: #008000; font-weight: bold } /* Name.Tag */\n",
       ".output_html .nv { color: #19177C } /* Name.Variable */\n",
       ".output_html .ow { color: #AA22FF; font-weight: bold } /* Operator.Word */\n",
       ".output_html .w { color: #bbbbbb } /* Text.Whitespace */\n",
       ".output_html .mb { color: #666666 } /* Literal.Number.Bin */\n",
       ".output_html .mf { color: #666666 } /* Literal.Number.Float */\n",
       ".output_html .mh { color: #666666 } /* Literal.Number.Hex */\n",
       ".output_html .mi { color: #666666 } /* Literal.Number.Integer */\n",
       ".output_html .mo { color: #666666 } /* Literal.Number.Oct */\n",
       ".output_html .sa { color: #BA2121 } /* Literal.String.Affix */\n",
       ".output_html .sb { color: #BA2121 } /* Literal.String.Backtick */\n",
       ".output_html .sc { color: #BA2121 } /* Literal.String.Char */\n",
       ".output_html .dl { color: #BA2121 } /* Literal.String.Delimiter */\n",
       ".output_html .sd { color: #BA2121; font-style: italic } /* Literal.String.Doc */\n",
       ".output_html .s2 { color: #BA2121 } /* Literal.String.Double */\n",
       ".output_html .se { color: #AA5D1F; font-weight: bold } /* Literal.String.Escape */\n",
       ".output_html .sh { color: #BA2121 } /* Literal.String.Heredoc */\n",
       ".output_html .si { color: #A45A77; font-weight: bold } /* Literal.String.Interpol */\n",
       ".output_html .sx { color: #008000 } /* Literal.String.Other */\n",
       ".output_html .sr { color: #A45A77 } /* Literal.String.Regex */\n",
       ".output_html .s1 { color: #BA2121 } /* Literal.String.Single */\n",
       ".output_html .ss { color: #19177C } /* Literal.String.Symbol */\n",
       ".output_html .bp { color: #008000 } /* Name.Builtin.Pseudo */\n",
       ".output_html .fm { color: #0000FF } /* Name.Function.Magic */\n",
       ".output_html .vc { color: #19177C } /* Name.Variable.Class */\n",
       ".output_html .vg { color: #19177C } /* Name.Variable.Global */\n",
       ".output_html .vi { color: #19177C } /* Name.Variable.Instance */\n",
       ".output_html .vm { color: #19177C } /* Name.Variable.Magic */\n",
       ".output_html .il { color: #666666 } /* Literal.Number.Integer.Long */</style><div class=\"highlight\"><pre><span></span><span class=\"kn\">from</span> <span class=\"nn\">typedlogic.integrations.frameworks.pydantic</span> <span class=\"kn\">import</span> <span class=\"n\">FactBaseModel</span>\n",
       "<span class=\"kn\">from</span> <span class=\"nn\">pydantic</span> <span class=\"kn\">import</span> <span class=\"n\">Field</span>\n",
       "\n",
       "<span class=\"k\">class</span> <span class=\"nc\">Person</span><span class=\"p\">(</span><span class=\"n\">FactBaseModel</span><span class=\"p\">):</span>\n",
       "    <span class=\"n\">name</span><span class=\"p\">:</span> <span class=\"nb\">str</span> <span class=\"o\">=</span> <span class=\"n\">Field</span><span class=\"p\">(</span><span class=\"o\">...</span><span class=\"p\">,</span> <span class=\"n\">description</span><span class=\"o\">=</span><span class=\"s2\">&quot;unique name of the person&quot;</span><span class=\"p\">)</span>\n",
       "    <span class=\"n\">age</span><span class=\"p\">:</span> <span class=\"nb\">int</span> <span class=\"o\">=</span> <span class=\"n\">Field</span><span class=\"p\">(</span><span class=\"o\">...</span><span class=\"p\">,</span> <span class=\"n\">description</span><span class=\"o\">=</span><span class=\"s2\">&quot;age in years&quot;</span><span class=\"p\">,</span> <span class=\"n\">ge</span><span class=\"o\">=</span><span class=\"mi\">0</span><span class=\"p\">)</span>\n",
       "</pre></div>\n"
      ],
      "text/latex": "\\begin{Verbatim}[commandchars=\\\\\\{\\}]\n\\PY{k+kn}{from} \\PY{n+nn}{typedlogic}\\PY{n+nn}{.}\\PY{n+nn}{integrations}\\PY{n+nn}{.}\\PY{n+nn}{frameworks}\\PY{n+nn}{.}\\PY{n+nn}{pydantic} \\PY{k+kn}{import} \\PY{n}{FactBaseModel}\n\\PY{k+kn}{from} \\PY{n+nn}{pydantic} \\PY{k+kn}{import} \\PY{n}{Field}\n\n\\PY{k}{class} \\PY{n+nc}{Person}\\PY{p}{(}\\PY{n}{FactBaseModel}\\PY{p}{)}\\PY{p}{:}\n    \\PY{n}{name}\\PY{p}{:} \\PY{n+nb}{str} \\PY{o}{=} \\PY{n}{Field}\\PY{p}{(}\\PY{o}{.}\\PY{o}{.}\\PY{o}{.}\\PY{p}{,} \\PY{n}{description}\\PY{o}{=}\\PY{l+s+s2}{\\PYZdq{}}\\PY{l+s+s2}{unique name of the person}\\PY{l+s+s2}{\\PYZdq{}}\\PY{p}{)}\n    \\PY{n}{age}\\PY{p}{:} \\PY{n+nb}{int} \\PY{o}{=} \\PY{n}{Field}\\PY{p}{(}\\PY{o}{.}\\PY{o}{.}\\PY{o}{.}\\PY{p}{,} \\PY{n}{description}\\PY{o}{=}\\PY{l+s+s2}{\\PYZdq{}}\\PY{l+s+s2}{age in years}\\PY{l+s+s2}{\\PYZdq{}}\\PY{p}{,} \\PY{n}{ge}\\PY{o}{=}\\PY{l+m+mi}{0}\\PY{p}{)}\n\\end{Verbatim}\n"
     },
     "execution_count": 9,
     "metadata": {},
     "output_type": "execute_result"
    }
   ],
   "execution_count": 9
  },
  {
   "metadata": {
    "ExecuteTime": {
     "end_time": "2024-09-16T13:25:12.830827Z",
     "start_time": "2024-09-16T13:25:12.826790Z"
    }
   },
   "cell_type": "code",
   "source": "import examples.pydantic_example",
   "id": "83813d8224a5535a",
   "outputs": [],
   "execution_count": 10
  },
  {
   "metadata": {
    "ExecuteTime": {
     "end_time": "2024-09-16T13:26:31.417509Z",
     "start_time": "2024-09-16T13:26:31.412015Z"
    }
   },
   "cell_type": "code",
   "source": [
    "from typedlogic.parsers.pyparser import PythonParser\n",
    "pp = PythonParser()\n",
    "theory = pp.parse(open(\"examples/pydantic_example.py\"))"
   ],
   "id": "916fc23e9841e6ce",
   "outputs": [],
   "execution_count": 13
  },
  {
   "metadata": {
    "ExecuteTime": {
     "end_time": "2024-09-16T13:26:51.890339Z",
     "start_time": "2024-09-16T13:26:51.885809Z"
    }
   },
   "cell_type": "code",
   "source": "theory.predicate_definitions[0]",
   "id": "60f0ab1235228467",
   "outputs": [
    {
     "data": {
      "text/plain": [
       "PredicateDefinition(predicate='FactBaseModel', arguments={}, description=None, metadata=None, parents=[], python_class=None)"
      ]
     },
     "execution_count": 15,
     "metadata": {},
     "output_type": "execute_result"
    }
   ],
   "execution_count": 15
  },
  {
   "metadata": {},
   "cell_type": "code",
   "outputs": [],
   "execution_count": null,
   "source": "",
   "id": "fc695f5f8151c46d"
  }
 ],
 "metadata": {
  "kernelspec": {
   "display_name": "Python 3",
   "language": "python",
   "name": "python3"
  },
  "language_info": {
   "codemirror_mode": {
    "name": "ipython",
    "version": 2
   },
   "file_extension": ".py",
   "mimetype": "text/x-python",
   "name": "python",
   "nbconvert_exporter": "python",
   "pygments_lexer": "ipython2",
   "version": "2.7.6"
  }
 },
 "nbformat": 4,
 "nbformat_minor": 5
}
