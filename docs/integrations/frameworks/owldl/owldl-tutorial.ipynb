{
 "cells": [
  {
   "metadata": {},
   "cell_type": "markdown",
   "source": [
    "# OWL-DL Integration Tutorial\n",
    "\n",
    "This tutorial is a brief introduction to the OWL-DL integration in typed-logic. Some basic familiarity with OWL-DL is assumed,\n",
    "see the [OWL2 Primer](https://www.w3.org/TR/owl2-primer/) for a good introduction.\n",
    "\n",
    "This tutorial shows how to represent OWL TBoxes (Ontologies) as *Python programs*, together with\n",
    "representing ABoxes (Individuals and Individual-level facts) as *Python objects*.\n",
    "\n",
    "The tutorial is a Jupyter notebook - you can run it interactively in a Jupyter environment, or simply read it as a document."
   ],
   "id": "13134f46a03364d4"
  },
  {
   "metadata": {},
   "cell_type": "markdown",
   "source": [
    "## Initial imports\n",
    "\n",
    "We will import the necessary classes from the `integrations` package:"
   ],
   "id": "69d876fc84251556"
  },
  {
   "metadata": {
    "ExecuteTime": {
     "end_time": "2024-10-10T21:28:08.213065Z",
     "start_time": "2024-10-10T21:28:08.189317Z"
    }
   },
   "cell_type": "code",
   "source": [
    "\n",
    "from typedlogic.integrations.frameworks.owldl import (Thing,\n",
    "                                                      TopDataProperty,\n",
    "                                                      TopObjectProperty)\n",
    "\n"
   ],
   "id": "83c9311ac996974a",
   "outputs": [],
   "execution_count": 1
  },
  {
   "metadata": {},
   "cell_type": "markdown",
   "source": [
    "## A simple class\n",
    "\n",
    "Next we'll define a simple class `Person`."
   ],
   "id": "7ceb8852bbfc20fd"
  },
  {
   "metadata": {
    "ExecuteTime": {
     "end_time": "2024-10-10T21:28:08.223452Z",
     "start_time": "2024-10-10T21:28:08.221623Z"
    }
   },
   "cell_type": "code",
   "source": [
    "class Person(Thing):\n",
    "    \"\"\"A person, living or dead.\"\"\""
   ],
   "id": "f3f597564ae6bf15",
   "outputs": [],
   "execution_count": 2
  },
  {
   "metadata": {},
   "cell_type": "markdown",
   "source": [
    "This works just as a normal Python class -- but note that this class is somewhat unusual\n",
    "in that it only has a single attribute, `iri`, which is the IRI of the individual in the OWL ontology. Actual attributes\n",
    "of a Person, such as their age or list of friends would be represented as instances of *properties*.\n",
    "\n",
    "Let's instantiate a person:"
   ],
   "id": "36bcbf3a01582e71"
  },
  {
   "metadata": {
    "ExecuteTime": {
     "end_time": "2024-10-10T21:28:08.228400Z",
     "start_time": "2024-10-10T21:28:08.226628Z"
    }
   },
   "cell_type": "code",
   "source": "AKIRA = Person(\"Akira\")",
   "id": "14af8aef1b64446f",
   "outputs": [],
   "execution_count": 3
  },
  {
   "metadata": {},
   "cell_type": "markdown",
   "source": "The only direct property is the IRI. We can examine it:",
   "id": "dbb69a826b682705"
  },
  {
   "metadata": {
    "ExecuteTime": {
     "end_time": "2024-10-10T21:28:08.238275Z",
     "start_time": "2024-10-10T21:28:08.234893Z"
    }
   },
   "cell_type": "code",
   "source": "AKIRA.iri",
   "id": "a8fff089716ca1c0",
   "outputs": [
    {
     "data": {
      "text/plain": [
       "'Akira'"
      ]
     },
     "execution_count": 4,
     "metadata": {},
     "output_type": "execute_result"
    }
   ],
   "execution_count": 4
  },
  {
   "metadata": {},
   "cell_type": "markdown",
   "source": [
    "For conversion to OWL serializations this will need to be an actual IRI - for now we treat it as having an implicit base prefix.\n",
    "The OWL-DL integration is not concerned with serializations, only with logical aspects."
   ],
   "id": "c16a0e5febfa4ee3"
  },
  {
   "metadata": {},
   "cell_type": "markdown",
   "source": [
    "## Defining Object Properties\n",
    "\n",
    "We define object properties by subclassing `TopObjectProperty`. For example, we can define a property `HasParent` that relates a person to their parent:"
   ],
   "id": "9ee7778c4503feb5"
  },
  {
   "metadata": {
    "ExecuteTime": {
     "end_time": "2024-10-10T21:28:08.325909Z",
     "start_time": "2024-10-10T21:28:08.324200Z"
    }
   },
   "cell_type": "code",
   "source": [
    "class HasParent(TopObjectProperty):\n",
    "    \"\"\"A property that relates a person to their parent.\"\"\"\n",
    "    domain = Person\n",
    "    range = Person"
   ],
   "id": "95b87d57da391024",
   "outputs": [],
   "execution_count": 5
  },
  {
   "metadata": {},
   "cell_type": "markdown",
   "source": "Note that we are setting two *class variables* here. These are class variables and fixed for all instances of `HasParent`.",
   "id": "9decbb51e0f159c"
  },
  {
   "metadata": {},
   "cell_type": "markdown",
   "source": "Next we'll start collecting some ObjectPropertyAssertions",
   "id": "b0f38d2cf6b7f06c"
  },
  {
   "metadata": {
    "ExecuteTime": {
     "end_time": "2024-10-10T21:28:08.334013Z",
     "start_time": "2024-10-10T21:28:08.331607Z"
    }
   },
   "cell_type": "code",
   "source": [
    "BIANCA = Person(\"Bianca\")\n",
    "a2b = HasParent(AKIRA.iri, BIANCA.iri)\n",
    "a2b\n"
   ],
   "id": "a2b664a9536c20c6",
   "outputs": [
    {
     "data": {
      "text/plain": [
       "HasParent(subject='Akira', object='Bianca')"
      ]
     },
     "execution_count": 6,
     "metadata": {},
     "output_type": "execute_result"
    }
   ],
   "execution_count": 6
  },
  {
   "metadata": {},
   "cell_type": "markdown",
   "source": [
    "All TopObjectProperty classes are treated as typed-logic Predicate Definitions for binary predicates, where the domain and range are individuals.\n",
    "\n",
    "We can examine these:"
   ],
   "id": "e9b6744a08bac057"
  },
  {
   "metadata": {
    "ExecuteTime": {
     "end_time": "2024-10-10T21:28:08.388617Z",
     "start_time": "2024-10-10T21:28:08.385317Z"
    }
   },
   "cell_type": "code",
   "source": "a2b.subject, a2b.object",
   "id": "a3a83b87128a2604",
   "outputs": [
    {
     "data": {
      "text/plain": [
       "('Akira', 'Bianca')"
      ]
     },
     "execution_count": 7,
     "metadata": {},
     "output_type": "execute_result"
    }
   ],
   "execution_count": 7
  },
  {
   "metadata": {},
   "cell_type": "markdown",
   "source": "Each such object has a FOL representation. We can examine this using` to_sentences`:",
   "id": "ea50bc4cee1a94f4"
  },
  {
   "metadata": {
    "ExecuteTime": {
     "end_time": "2024-10-10T21:28:08.437998Z",
     "start_time": "2024-10-10T21:28:08.435556Z"
    }
   },
   "cell_type": "code",
   "source": [
    "for s in HasParent.to_sentences():\n",
    "    print(s)"
   ],
   "id": "d4f9cb01f9bff782",
   "outputs": [
    {
     "name": "stdout",
     "output_type": "stream",
     "text": [
      "∀P: None, I: None, J: None : (HasParent(?I, ?J) -> TopObjectProperty(?I, ?J))\n",
      "∀I: None, J: None : (HasParent(?I, ?J) -> Person(?I))\n",
      "∀I: None, J: None : (HasParent(?I, ?J) -> Person(?J))\n"
     ]
    }
   ],
   "execution_count": 8
  },
  {
   "metadata": {},
   "cell_type": "markdown",
   "source": [
    "Normally there is no need to examine these assertions, they will be accessed for us by a reasoning mechanism, but\n",
    "for now they can be a useful way of examining the semantics (at the ABox level) of the ontology. \n",
    "\n",
    "Here we can see that in addition to the trivial inference that all `HasParent` assertions are of type `HasParent`, we also see that the subject and object are of type `Person` (from the domain and range constraints)."
   ],
   "id": "1de5f25d0ef2b8e1"
  },
  {
   "metadata": {},
   "cell_type": "markdown",
   "source": [
    "## Entailments: Defining inverses\n",
    "\n",
    "Next we will introduce the concept of entailing inverses.\n",
    "\n",
    "We will make the `HasChild` property the inverse of `HasParent`:"
   ],
   "id": "a990db41f47c6ad4"
  },
  {
   "metadata": {
    "ExecuteTime": {
     "end_time": "2024-10-10T21:28:08.481742Z",
     "start_time": "2024-10-10T21:28:08.479874Z"
    }
   },
   "cell_type": "code",
   "source": [
    "class HasChild(TopObjectProperty):\n",
    "    \"\"\"A property that relates a person to their child.\"\"\"\n",
    "    inverse_of = HasParent"
   ],
   "id": "8362c6145c91bc10",
   "outputs": [],
   "execution_count": 9
  },
  {
   "metadata": {},
   "cell_type": "markdown",
   "source": [
    "## Finding entailments using a reasoner\n",
    "\n",
    "We have declared some axioms, now it's time to find some entailments. For this we will use a Reasoner object:"
   ],
   "id": "fe9e7ccb187f66de"
  },
  {
   "metadata": {
    "ExecuteTime": {
     "end_time": "2024-10-10T21:28:08.507302Z",
     "start_time": "2024-10-10T21:28:08.491375Z"
    }
   },
   "cell_type": "code",
   "source": [
    "from typedlogic.integrations.frameworks.owldl.reasoner import OWLReasoner\n",
    "reasoner = OWLReasoner()"
   ],
   "id": "6946b746029fff90",
   "outputs": [],
   "execution_count": 10
  },
  {
   "metadata": {},
   "cell_type": "markdown",
   "source": [
    "Here the reasoner is just a wrapper onto an existing Solver (by default, Clingo).\n",
    "\n",
    "Next we will load an ontology declared as python. For convenience, we have aggregated the declarations into a single file [examples/family_v1.py](examples/family_v1.py)."
   ],
   "id": "5571c929fb6c20cc"
  },
  {
   "metadata": {
    "ExecuteTime": {
     "end_time": "2024-10-10T21:28:08.535823Z",
     "start_time": "2024-10-10T21:28:08.513021Z"
    }
   },
   "cell_type": "code",
   "source": [
    "from examples.utils import show\n",
    "show(\"examples/family_v1.py\")"
   ],
   "id": "e40b2860ce08e291",
   "outputs": [
    {
     "data": {
      "text/plain": [
       "from typedlogic.integrations.frameworks.owldl import (\n",
       "    Thing,\n",
       "    TopObjectProperty,\n",
       ")\n",
       "\n",
       "\n",
       "class Person(Thing):\n",
       "    \"\"\"A person, living or dead.\"\"\"\n",
       "    pass\n",
       "\n",
       "class HasParent(TopObjectProperty):\n",
       "    \"\"\"A property that relates a person to their parent.\"\"\"\n",
       "    domain = Person\n",
       "    range = Person\n",
       "\n",
       "class HasChild(TopObjectProperty):\n",
       "    \"\"\"A property that relates a person to their child.\"\"\"\n",
       "    inverse_of = HasParent"
      ],
      "text/html": [
       "<style>pre { line-height: 125%; }\n",
       "td.linenos .normal { color: inherit; background-color: transparent; padding-left: 5px; padding-right: 5px; }\n",
       "span.linenos { color: inherit; background-color: transparent; padding-left: 5px; padding-right: 5px; }\n",
       "td.linenos .special { color: #000000; background-color: #ffffc0; padding-left: 5px; padding-right: 5px; }\n",
       "span.linenos.special { color: #000000; background-color: #ffffc0; padding-left: 5px; padding-right: 5px; }\n",
       ".output_html .hll { background-color: #ffffcc }\n",
       ".output_html { background: #f8f8f8; }\n",
       ".output_html .c { color: #3D7B7B; font-style: italic } /* Comment */\n",
       ".output_html .err { border: 1px solid #FF0000 } /* Error */\n",
       ".output_html .k { color: #008000; font-weight: bold } /* Keyword */\n",
       ".output_html .o { color: #666666 } /* Operator */\n",
       ".output_html .ch { color: #3D7B7B; font-style: italic } /* Comment.Hashbang */\n",
       ".output_html .cm { color: #3D7B7B; font-style: italic } /* Comment.Multiline */\n",
       ".output_html .cp { color: #9C6500 } /* Comment.Preproc */\n",
       ".output_html .cpf { color: #3D7B7B; font-style: italic } /* Comment.PreprocFile */\n",
       ".output_html .c1 { color: #3D7B7B; font-style: italic } /* Comment.Single */\n",
       ".output_html .cs { color: #3D7B7B; font-style: italic } /* Comment.Special */\n",
       ".output_html .gd { color: #A00000 } /* Generic.Deleted */\n",
       ".output_html .ge { font-style: italic } /* Generic.Emph */\n",
       ".output_html .ges { font-weight: bold; font-style: italic } /* Generic.EmphStrong */\n",
       ".output_html .gr { color: #E40000 } /* Generic.Error */\n",
       ".output_html .gh { color: #000080; font-weight: bold } /* Generic.Heading */\n",
       ".output_html .gi { color: #008400 } /* Generic.Inserted */\n",
       ".output_html .go { color: #717171 } /* Generic.Output */\n",
       ".output_html .gp { color: #000080; font-weight: bold } /* Generic.Prompt */\n",
       ".output_html .gs { font-weight: bold } /* Generic.Strong */\n",
       ".output_html .gu { color: #800080; font-weight: bold } /* Generic.Subheading */\n",
       ".output_html .gt { color: #0044DD } /* Generic.Traceback */\n",
       ".output_html .kc { color: #008000; font-weight: bold } /* Keyword.Constant */\n",
       ".output_html .kd { color: #008000; font-weight: bold } /* Keyword.Declaration */\n",
       ".output_html .kn { color: #008000; font-weight: bold } /* Keyword.Namespace */\n",
       ".output_html .kp { color: #008000 } /* Keyword.Pseudo */\n",
       ".output_html .kr { color: #008000; font-weight: bold } /* Keyword.Reserved */\n",
       ".output_html .kt { color: #B00040 } /* Keyword.Type */\n",
       ".output_html .m { color: #666666 } /* Literal.Number */\n",
       ".output_html .s { color: #BA2121 } /* Literal.String */\n",
       ".output_html .na { color: #687822 } /* Name.Attribute */\n",
       ".output_html .nb { color: #008000 } /* Name.Builtin */\n",
       ".output_html .nc { color: #0000FF; font-weight: bold } /* Name.Class */\n",
       ".output_html .no { color: #880000 } /* Name.Constant */\n",
       ".output_html .nd { color: #AA22FF } /* Name.Decorator */\n",
       ".output_html .ni { color: #717171; font-weight: bold } /* Name.Entity */\n",
       ".output_html .ne { color: #CB3F38; font-weight: bold } /* Name.Exception */\n",
       ".output_html .nf { color: #0000FF } /* Name.Function */\n",
       ".output_html .nl { color: #767600 } /* Name.Label */\n",
       ".output_html .nn { color: #0000FF; font-weight: bold } /* Name.Namespace */\n",
       ".output_html .nt { color: #008000; font-weight: bold } /* Name.Tag */\n",
       ".output_html .nv { color: #19177C } /* Name.Variable */\n",
       ".output_html .ow { color: #AA22FF; font-weight: bold } /* Operator.Word */\n",
       ".output_html .w { color: #bbbbbb } /* Text.Whitespace */\n",
       ".output_html .mb { color: #666666 } /* Literal.Number.Bin */\n",
       ".output_html .mf { color: #666666 } /* Literal.Number.Float */\n",
       ".output_html .mh { color: #666666 } /* Literal.Number.Hex */\n",
       ".output_html .mi { color: #666666 } /* Literal.Number.Integer */\n",
       ".output_html .mo { color: #666666 } /* Literal.Number.Oct */\n",
       ".output_html .sa { color: #BA2121 } /* Literal.String.Affix */\n",
       ".output_html .sb { color: #BA2121 } /* Literal.String.Backtick */\n",
       ".output_html .sc { color: #BA2121 } /* Literal.String.Char */\n",
       ".output_html .dl { color: #BA2121 } /* Literal.String.Delimiter */\n",
       ".output_html .sd { color: #BA2121; font-style: italic } /* Literal.String.Doc */\n",
       ".output_html .s2 { color: #BA2121 } /* Literal.String.Double */\n",
       ".output_html .se { color: #AA5D1F; font-weight: bold } /* Literal.String.Escape */\n",
       ".output_html .sh { color: #BA2121 } /* Literal.String.Heredoc */\n",
       ".output_html .si { color: #A45A77; font-weight: bold } /* Literal.String.Interpol */\n",
       ".output_html .sx { color: #008000 } /* Literal.String.Other */\n",
       ".output_html .sr { color: #A45A77 } /* Literal.String.Regex */\n",
       ".output_html .s1 { color: #BA2121 } /* Literal.String.Single */\n",
       ".output_html .ss { color: #19177C } /* Literal.String.Symbol */\n",
       ".output_html .bp { color: #008000 } /* Name.Builtin.Pseudo */\n",
       ".output_html .fm { color: #0000FF } /* Name.Function.Magic */\n",
       ".output_html .vc { color: #19177C } /* Name.Variable.Class */\n",
       ".output_html .vg { color: #19177C } /* Name.Variable.Global */\n",
       ".output_html .vi { color: #19177C } /* Name.Variable.Instance */\n",
       ".output_html .vm { color: #19177C } /* Name.Variable.Magic */\n",
       ".output_html .il { color: #666666 } /* Literal.Number.Integer.Long */</style><div class=\"highlight\"><pre><span></span><span class=\"kn\">from</span> <span class=\"nn\">typedlogic.integrations.frameworks.owldl</span> <span class=\"kn\">import</span> <span class=\"p\">(</span>\n",
       "    <span class=\"n\">Thing</span><span class=\"p\">,</span>\n",
       "    <span class=\"n\">TopObjectProperty</span><span class=\"p\">,</span>\n",
       "<span class=\"p\">)</span>\n",
       "\n",
       "\n",
       "<span class=\"k\">class</span> <span class=\"nc\">Person</span><span class=\"p\">(</span><span class=\"n\">Thing</span><span class=\"p\">):</span>\n",
       "<span class=\"w\">    </span><span class=\"sd\">&quot;&quot;&quot;A person, living or dead.&quot;&quot;&quot;</span>\n",
       "    <span class=\"k\">pass</span>\n",
       "\n",
       "<span class=\"k\">class</span> <span class=\"nc\">HasParent</span><span class=\"p\">(</span><span class=\"n\">TopObjectProperty</span><span class=\"p\">):</span>\n",
       "<span class=\"w\">    </span><span class=\"sd\">&quot;&quot;&quot;A property that relates a person to their parent.&quot;&quot;&quot;</span>\n",
       "    <span class=\"n\">domain</span> <span class=\"o\">=</span> <span class=\"n\">Person</span>\n",
       "    <span class=\"nb\">range</span> <span class=\"o\">=</span> <span class=\"n\">Person</span>\n",
       "\n",
       "<span class=\"k\">class</span> <span class=\"nc\">HasChild</span><span class=\"p\">(</span><span class=\"n\">TopObjectProperty</span><span class=\"p\">):</span>\n",
       "<span class=\"w\">    </span><span class=\"sd\">&quot;&quot;&quot;A property that relates a person to their child.&quot;&quot;&quot;</span>\n",
       "    <span class=\"n\">inverse_of</span> <span class=\"o\">=</span> <span class=\"n\">HasParent</span>\n",
       "</pre></div>\n"
      ],
      "text/latex": "\\begin{Verbatim}[commandchars=\\\\\\{\\}]\n\\PY{k+kn}{from} \\PY{n+nn}{typedlogic}\\PY{n+nn}{.}\\PY{n+nn}{integrations}\\PY{n+nn}{.}\\PY{n+nn}{frameworks}\\PY{n+nn}{.}\\PY{n+nn}{owldl} \\PY{k+kn}{import} \\PY{p}{(}\n    \\PY{n}{Thing}\\PY{p}{,}\n    \\PY{n}{TopObjectProperty}\\PY{p}{,}\n\\PY{p}{)}\n\n\n\\PY{k}{class} \\PY{n+nc}{Person}\\PY{p}{(}\\PY{n}{Thing}\\PY{p}{)}\\PY{p}{:}\n\\PY{+w}{    }\\PY{l+s+sd}{\\PYZdq{}\\PYZdq{}\\PYZdq{}A person, living or dead.\\PYZdq{}\\PYZdq{}\\PYZdq{}}\n    \\PY{k}{pass}\n\n\\PY{k}{class} \\PY{n+nc}{HasParent}\\PY{p}{(}\\PY{n}{TopObjectProperty}\\PY{p}{)}\\PY{p}{:}\n\\PY{+w}{    }\\PY{l+s+sd}{\\PYZdq{}\\PYZdq{}\\PYZdq{}A property that relates a person to their parent.\\PYZdq{}\\PYZdq{}\\PYZdq{}}\n    \\PY{n}{domain} \\PY{o}{=} \\PY{n}{Person}\n    \\PY{n+nb}{range} \\PY{o}{=} \\PY{n}{Person}\n\n\\PY{k}{class} \\PY{n+nc}{HasChild}\\PY{p}{(}\\PY{n}{TopObjectProperty}\\PY{p}{)}\\PY{p}{:}\n\\PY{+w}{    }\\PY{l+s+sd}{\\PYZdq{}\\PYZdq{}\\PYZdq{}A property that relates a person to their child.\\PYZdq{}\\PYZdq{}\\PYZdq{}}\n    \\PY{n}{inverse\\PYZus{}of} \\PY{o}{=} \\PY{n}{HasParent}\n\\end{Verbatim}\n"
     },
     "execution_count": 11,
     "metadata": {},
     "output_type": "execute_result"
    }
   ],
   "execution_count": 11
  },
  {
   "metadata": {},
   "cell_type": "markdown",
   "source": "We can now load this ontology (TBox) into the reasoner:",
   "id": "4b113177adca5721"
  },
  {
   "metadata": {
    "ExecuteTime": {
     "end_time": "2024-10-10T21:28:08.576186Z",
     "start_time": "2024-10-10T21:28:08.543322Z"
    }
   },
   "cell_type": "code",
   "source": "reasoner.init_from_file(\"examples/family_v1.py\")",
   "id": "b52c7fad5203899e",
   "outputs": [],
   "execution_count": 12
  },
  {
   "metadata": {},
   "cell_type": "markdown",
   "source": [
    "Next we will add facts. We will add the single fact we declared earlier.\n",
    "\n",
    "Note that we could feed in the instance declarations from earlier, but we don't need to here as these will be entailed by the domain and range constraints."
   ],
   "id": "edd63ab4cdfeaab2"
  },
  {
   "metadata": {
    "ExecuteTime": {
     "end_time": "2024-10-10T21:28:08.582403Z",
     "start_time": "2024-10-10T21:28:08.580838Z"
    }
   },
   "cell_type": "code",
   "source": "reasoner.add(a2b)",
   "id": "7b3a0ce518bca389",
   "outputs": [],
   "execution_count": 13
  },
  {
   "metadata": {},
   "cell_type": "markdown",
   "source": "Now we'll find a model and all entailments for the predicate `HasChild`:",
   "id": "bcfe4e93b54817ed"
  },
  {
   "metadata": {
    "ExecuteTime": {
     "end_time": "2024-10-10T21:28:08.589978Z",
     "start_time": "2024-10-10T21:28:08.586771Z"
    }
   },
   "cell_type": "code",
   "source": "model = reasoner.model()",
   "id": "41fd8d0e313da0fd",
   "outputs": [],
   "execution_count": 14
  },
  {
   "metadata": {
    "ExecuteTime": {
     "end_time": "2024-10-10T21:28:08.596992Z",
     "start_time": "2024-10-10T21:28:08.594973Z"
    }
   },
   "cell_type": "code",
   "source": [
    "for t in model.iter_retrieve(\"HasChild\"):\n",
    "    print(t)"
   ],
   "id": "7f68fa8d66a1bfeb",
   "outputs": [
    {
     "name": "stdout",
     "output_type": "stream",
     "text": [
      "HasChild(Bianca, Akira)\n"
     ]
    }
   ],
   "execution_count": 15
  },
  {
   "metadata": {},
   "cell_type": "markdown",
   "source": "We can examine all axioms the reasoner had to work with:",
   "id": "7c547651605bcdd1"
  },
  {
   "metadata": {
    "ExecuteTime": {
     "end_time": "2024-10-10T21:28:08.623925Z",
     "start_time": "2024-10-10T21:28:08.621900Z"
    }
   },
   "cell_type": "code",
   "source": [
    "for s in reasoner.theory.sentences:\n",
    "    print(s)"
   ],
   "id": "38e85586fbefc1f9",
   "outputs": [
    {
     "name": "stdout",
     "output_type": "stream",
     "text": [
      "∀I: None : (Person(?I) -> Thing(?I))\n",
      "∀P: None, I: None, J: None : (HasChild(?I, ?J) -> TopObjectProperty(?I, ?J))\n",
      "∀I: None, J: None : (HasChild(?I, ?J) <-> HasParent(?J, ?I))\n",
      "∀P: None, I: None, J: None : (HasParent(?I, ?J) -> TopObjectProperty(?I, ?J))\n",
      "∀I: None, J: None : (HasParent(?I, ?J) -> Person(?I))\n",
      "∀I: None, J: None : (HasParent(?I, ?J) -> Person(?J))\n",
      "HasParent(Akira, Bianca)\n"
     ]
    }
   ],
   "execution_count": 16
  },
  {
   "metadata": {},
   "cell_type": "markdown",
   "source": [
    "## Consistency Checking\n",
    "\n",
    "Next we will extend our ontology. We will:\n",
    "\n",
    "  - add transitive predicates for `HasAncestor` and `HasDescendant`\n",
    "  - add an `Asymmetric` constraint that prevents loops in the graph.\n",
    "\n",
    "We will use this program:"
   ],
   "id": "a283b3b46d18ec77"
  },
  {
   "metadata": {
    "ExecuteTime": {
     "end_time": "2024-10-10T21:28:08.656350Z",
     "start_time": "2024-10-10T21:28:08.651328Z"
    }
   },
   "cell_type": "code",
   "source": "show(\"examples/family_v2.py\")",
   "id": "95809cbe5cb10e1f",
   "outputs": [
    {
     "data": {
      "text/plain": [
       "from typedlogic.integrations.frameworks.owldl import Thing, TopObjectProperty, SubObjectPropertyOf\n",
       "\n",
       "\n",
       "class Person(Thing):\n",
       "    \"\"\"A person, living or dead.\"\"\"\n",
       "    pass\n",
       "\n",
       "\n",
       "\n",
       "class HasAncestor(TopObjectProperty):\n",
       "    \"\"\"A property that relates a person to their parent.\"\"\"\n",
       "\n",
       "class HasDescendant(TopObjectProperty):\n",
       "    \"\"\"A property that relates a person to their child.\"\"\"\n",
       "    transitive = True\n",
       "    asymmetric = True\n",
       "\n",
       "class HasParent(HasAncestor):\n",
       "    \"\"\"A property that relates a person to their parent.\"\"\"\n",
       "    domain = Person\n",
       "    range = Person\n",
       "\n",
       "class HasChild(HasDescendant):\n",
       "    \"\"\"A property that relates a person to their child.\"\"\"\n",
       "    inverse_of = HasParent\n",
       "\n",
       "__axioms__ = [ SubObjectPropertyOf(HasParent, HasAncestor), SubObjectPropertyOf(HasChild, HasDescendant) ]"
      ],
      "text/html": [
       "<style>pre { line-height: 125%; }\n",
       "td.linenos .normal { color: inherit; background-color: transparent; padding-left: 5px; padding-right: 5px; }\n",
       "span.linenos { color: inherit; background-color: transparent; padding-left: 5px; padding-right: 5px; }\n",
       "td.linenos .special { color: #000000; background-color: #ffffc0; padding-left: 5px; padding-right: 5px; }\n",
       "span.linenos.special { color: #000000; background-color: #ffffc0; padding-left: 5px; padding-right: 5px; }\n",
       ".output_html .hll { background-color: #ffffcc }\n",
       ".output_html { background: #f8f8f8; }\n",
       ".output_html .c { color: #3D7B7B; font-style: italic } /* Comment */\n",
       ".output_html .err { border: 1px solid #FF0000 } /* Error */\n",
       ".output_html .k { color: #008000; font-weight: bold } /* Keyword */\n",
       ".output_html .o { color: #666666 } /* Operator */\n",
       ".output_html .ch { color: #3D7B7B; font-style: italic } /* Comment.Hashbang */\n",
       ".output_html .cm { color: #3D7B7B; font-style: italic } /* Comment.Multiline */\n",
       ".output_html .cp { color: #9C6500 } /* Comment.Preproc */\n",
       ".output_html .cpf { color: #3D7B7B; font-style: italic } /* Comment.PreprocFile */\n",
       ".output_html .c1 { color: #3D7B7B; font-style: italic } /* Comment.Single */\n",
       ".output_html .cs { color: #3D7B7B; font-style: italic } /* Comment.Special */\n",
       ".output_html .gd { color: #A00000 } /* Generic.Deleted */\n",
       ".output_html .ge { font-style: italic } /* Generic.Emph */\n",
       ".output_html .ges { font-weight: bold; font-style: italic } /* Generic.EmphStrong */\n",
       ".output_html .gr { color: #E40000 } /* Generic.Error */\n",
       ".output_html .gh { color: #000080; font-weight: bold } /* Generic.Heading */\n",
       ".output_html .gi { color: #008400 } /* Generic.Inserted */\n",
       ".output_html .go { color: #717171 } /* Generic.Output */\n",
       ".output_html .gp { color: #000080; font-weight: bold } /* Generic.Prompt */\n",
       ".output_html .gs { font-weight: bold } /* Generic.Strong */\n",
       ".output_html .gu { color: #800080; font-weight: bold } /* Generic.Subheading */\n",
       ".output_html .gt { color: #0044DD } /* Generic.Traceback */\n",
       ".output_html .kc { color: #008000; font-weight: bold } /* Keyword.Constant */\n",
       ".output_html .kd { color: #008000; font-weight: bold } /* Keyword.Declaration */\n",
       ".output_html .kn { color: #008000; font-weight: bold } /* Keyword.Namespace */\n",
       ".output_html .kp { color: #008000 } /* Keyword.Pseudo */\n",
       ".output_html .kr { color: #008000; font-weight: bold } /* Keyword.Reserved */\n",
       ".output_html .kt { color: #B00040 } /* Keyword.Type */\n",
       ".output_html .m { color: #666666 } /* Literal.Number */\n",
       ".output_html .s { color: #BA2121 } /* Literal.String */\n",
       ".output_html .na { color: #687822 } /* Name.Attribute */\n",
       ".output_html .nb { color: #008000 } /* Name.Builtin */\n",
       ".output_html .nc { color: #0000FF; font-weight: bold } /* Name.Class */\n",
       ".output_html .no { color: #880000 } /* Name.Constant */\n",
       ".output_html .nd { color: #AA22FF } /* Name.Decorator */\n",
       ".output_html .ni { color: #717171; font-weight: bold } /* Name.Entity */\n",
       ".output_html .ne { color: #CB3F38; font-weight: bold } /* Name.Exception */\n",
       ".output_html .nf { color: #0000FF } /* Name.Function */\n",
       ".output_html .nl { color: #767600 } /* Name.Label */\n",
       ".output_html .nn { color: #0000FF; font-weight: bold } /* Name.Namespace */\n",
       ".output_html .nt { color: #008000; font-weight: bold } /* Name.Tag */\n",
       ".output_html .nv { color: #19177C } /* Name.Variable */\n",
       ".output_html .ow { color: #AA22FF; font-weight: bold } /* Operator.Word */\n",
       ".output_html .w { color: #bbbbbb } /* Text.Whitespace */\n",
       ".output_html .mb { color: #666666 } /* Literal.Number.Bin */\n",
       ".output_html .mf { color: #666666 } /* Literal.Number.Float */\n",
       ".output_html .mh { color: #666666 } /* Literal.Number.Hex */\n",
       ".output_html .mi { color: #666666 } /* Literal.Number.Integer */\n",
       ".output_html .mo { color: #666666 } /* Literal.Number.Oct */\n",
       ".output_html .sa { color: #BA2121 } /* Literal.String.Affix */\n",
       ".output_html .sb { color: #BA2121 } /* Literal.String.Backtick */\n",
       ".output_html .sc { color: #BA2121 } /* Literal.String.Char */\n",
       ".output_html .dl { color: #BA2121 } /* Literal.String.Delimiter */\n",
       ".output_html .sd { color: #BA2121; font-style: italic } /* Literal.String.Doc */\n",
       ".output_html .s2 { color: #BA2121 } /* Literal.String.Double */\n",
       ".output_html .se { color: #AA5D1F; font-weight: bold } /* Literal.String.Escape */\n",
       ".output_html .sh { color: #BA2121 } /* Literal.String.Heredoc */\n",
       ".output_html .si { color: #A45A77; font-weight: bold } /* Literal.String.Interpol */\n",
       ".output_html .sx { color: #008000 } /* Literal.String.Other */\n",
       ".output_html .sr { color: #A45A77 } /* Literal.String.Regex */\n",
       ".output_html .s1 { color: #BA2121 } /* Literal.String.Single */\n",
       ".output_html .ss { color: #19177C } /* Literal.String.Symbol */\n",
       ".output_html .bp { color: #008000 } /* Name.Builtin.Pseudo */\n",
       ".output_html .fm { color: #0000FF } /* Name.Function.Magic */\n",
       ".output_html .vc { color: #19177C } /* Name.Variable.Class */\n",
       ".output_html .vg { color: #19177C } /* Name.Variable.Global */\n",
       ".output_html .vi { color: #19177C } /* Name.Variable.Instance */\n",
       ".output_html .vm { color: #19177C } /* Name.Variable.Magic */\n",
       ".output_html .il { color: #666666 } /* Literal.Number.Integer.Long */</style><div class=\"highlight\"><pre><span></span><span class=\"kn\">from</span> <span class=\"nn\">typedlogic.integrations.frameworks.owldl</span> <span class=\"kn\">import</span> <span class=\"n\">Thing</span><span class=\"p\">,</span> <span class=\"n\">TopObjectProperty</span><span class=\"p\">,</span> <span class=\"n\">SubObjectPropertyOf</span>\n",
       "\n",
       "\n",
       "<span class=\"k\">class</span> <span class=\"nc\">Person</span><span class=\"p\">(</span><span class=\"n\">Thing</span><span class=\"p\">):</span>\n",
       "<span class=\"w\">    </span><span class=\"sd\">&quot;&quot;&quot;A person, living or dead.&quot;&quot;&quot;</span>\n",
       "    <span class=\"k\">pass</span>\n",
       "\n",
       "\n",
       "\n",
       "<span class=\"k\">class</span> <span class=\"nc\">HasAncestor</span><span class=\"p\">(</span><span class=\"n\">TopObjectProperty</span><span class=\"p\">):</span>\n",
       "<span class=\"w\">    </span><span class=\"sd\">&quot;&quot;&quot;A property that relates a person to their parent.&quot;&quot;&quot;</span>\n",
       "\n",
       "<span class=\"k\">class</span> <span class=\"nc\">HasDescendant</span><span class=\"p\">(</span><span class=\"n\">TopObjectProperty</span><span class=\"p\">):</span>\n",
       "<span class=\"w\">    </span><span class=\"sd\">&quot;&quot;&quot;A property that relates a person to their child.&quot;&quot;&quot;</span>\n",
       "    <span class=\"n\">transitive</span> <span class=\"o\">=</span> <span class=\"kc\">True</span>\n",
       "    <span class=\"n\">asymmetric</span> <span class=\"o\">=</span> <span class=\"kc\">True</span>\n",
       "\n",
       "<span class=\"k\">class</span> <span class=\"nc\">HasParent</span><span class=\"p\">(</span><span class=\"n\">HasAncestor</span><span class=\"p\">):</span>\n",
       "<span class=\"w\">    </span><span class=\"sd\">&quot;&quot;&quot;A property that relates a person to their parent.&quot;&quot;&quot;</span>\n",
       "    <span class=\"n\">domain</span> <span class=\"o\">=</span> <span class=\"n\">Person</span>\n",
       "    <span class=\"nb\">range</span> <span class=\"o\">=</span> <span class=\"n\">Person</span>\n",
       "\n",
       "<span class=\"k\">class</span> <span class=\"nc\">HasChild</span><span class=\"p\">(</span><span class=\"n\">HasDescendant</span><span class=\"p\">):</span>\n",
       "<span class=\"w\">    </span><span class=\"sd\">&quot;&quot;&quot;A property that relates a person to their child.&quot;&quot;&quot;</span>\n",
       "    <span class=\"n\">inverse_of</span> <span class=\"o\">=</span> <span class=\"n\">HasParent</span>\n",
       "\n",
       "<span class=\"n\">__axioms__</span> <span class=\"o\">=</span> <span class=\"p\">[</span> <span class=\"n\">SubObjectPropertyOf</span><span class=\"p\">(</span><span class=\"n\">HasParent</span><span class=\"p\">,</span> <span class=\"n\">HasAncestor</span><span class=\"p\">),</span> <span class=\"n\">SubObjectPropertyOf</span><span class=\"p\">(</span><span class=\"n\">HasChild</span><span class=\"p\">,</span> <span class=\"n\">HasDescendant</span><span class=\"p\">)</span> <span class=\"p\">]</span>\n",
       "</pre></div>\n"
      ],
      "text/latex": "\\begin{Verbatim}[commandchars=\\\\\\{\\}]\n\\PY{k+kn}{from} \\PY{n+nn}{typedlogic}\\PY{n+nn}{.}\\PY{n+nn}{integrations}\\PY{n+nn}{.}\\PY{n+nn}{frameworks}\\PY{n+nn}{.}\\PY{n+nn}{owldl} \\PY{k+kn}{import} \\PY{n}{Thing}\\PY{p}{,} \\PY{n}{TopObjectProperty}\\PY{p}{,} \\PY{n}{SubObjectPropertyOf}\n\n\n\\PY{k}{class} \\PY{n+nc}{Person}\\PY{p}{(}\\PY{n}{Thing}\\PY{p}{)}\\PY{p}{:}\n\\PY{+w}{    }\\PY{l+s+sd}{\\PYZdq{}\\PYZdq{}\\PYZdq{}A person, living or dead.\\PYZdq{}\\PYZdq{}\\PYZdq{}}\n    \\PY{k}{pass}\n\n\n\n\\PY{k}{class} \\PY{n+nc}{HasAncestor}\\PY{p}{(}\\PY{n}{TopObjectProperty}\\PY{p}{)}\\PY{p}{:}\n\\PY{+w}{    }\\PY{l+s+sd}{\\PYZdq{}\\PYZdq{}\\PYZdq{}A property that relates a person to their parent.\\PYZdq{}\\PYZdq{}\\PYZdq{}}\n\n\\PY{k}{class} \\PY{n+nc}{HasDescendant}\\PY{p}{(}\\PY{n}{TopObjectProperty}\\PY{p}{)}\\PY{p}{:}\n\\PY{+w}{    }\\PY{l+s+sd}{\\PYZdq{}\\PYZdq{}\\PYZdq{}A property that relates a person to their child.\\PYZdq{}\\PYZdq{}\\PYZdq{}}\n    \\PY{n}{transitive} \\PY{o}{=} \\PY{k+kc}{True}\n    \\PY{n}{asymmetric} \\PY{o}{=} \\PY{k+kc}{True}\n\n\\PY{k}{class} \\PY{n+nc}{HasParent}\\PY{p}{(}\\PY{n}{HasAncestor}\\PY{p}{)}\\PY{p}{:}\n\\PY{+w}{    }\\PY{l+s+sd}{\\PYZdq{}\\PYZdq{}\\PYZdq{}A property that relates a person to their parent.\\PYZdq{}\\PYZdq{}\\PYZdq{}}\n    \\PY{n}{domain} \\PY{o}{=} \\PY{n}{Person}\n    \\PY{n+nb}{range} \\PY{o}{=} \\PY{n}{Person}\n\n\\PY{k}{class} \\PY{n+nc}{HasChild}\\PY{p}{(}\\PY{n}{HasDescendant}\\PY{p}{)}\\PY{p}{:}\n\\PY{+w}{    }\\PY{l+s+sd}{\\PYZdq{}\\PYZdq{}\\PYZdq{}A property that relates a person to their child.\\PYZdq{}\\PYZdq{}\\PYZdq{}}\n    \\PY{n}{inverse\\PYZus{}of} \\PY{o}{=} \\PY{n}{HasParent}\n\n\\PY{n}{\\PYZus{}\\PYZus{}axioms\\PYZus{}\\PYZus{}} \\PY{o}{=} \\PY{p}{[} \\PY{n}{SubObjectPropertyOf}\\PY{p}{(}\\PY{n}{HasParent}\\PY{p}{,} \\PY{n}{HasAncestor}\\PY{p}{)}\\PY{p}{,} \\PY{n}{SubObjectPropertyOf}\\PY{p}{(}\\PY{n}{HasChild}\\PY{p}{,} \\PY{n}{HasDescendant}\\PY{p}{)} \\PY{p}{]}\n\\end{Verbatim}\n"
     },
     "execution_count": 17,
     "metadata": {},
     "output_type": "execute_result"
    }
   ],
   "execution_count": 17
  },
  {
   "metadata": {},
   "cell_type": "markdown",
   "source": [
    "Here we opted to declare the `SubObjectPropertyOf` axioms directly at the ontology level, rather than \"Frame-style\" in the predicate definitions.\n",
    "This illustrates how \"Manchester-style\" and \"Functional-style\" can be mixed. The Functional-style can be useful for avoiding forward declarations.\n",
    "\n",
    "We'll now load this ontology into the reasoner:"
   ],
   "id": "24e7d565ba3a7db0"
  },
  {
   "metadata": {
    "ExecuteTime": {
     "end_time": "2024-10-10T21:28:08.690530Z",
     "start_time": "2024-10-10T21:28:08.685297Z"
    }
   },
   "cell_type": "code",
   "source": "reasoner.init_from_file(\"examples/family_v2.py\")",
   "id": "d944cda3566a4c62",
   "outputs": [],
   "execution_count": 18
  },
  {
   "metadata": {},
   "cell_type": "markdown",
   "source": "Now we can add some facts. First we will add two direct parent-child relationships, that can be chained together to form a grandparent-grandchild relationship:",
   "id": "8f06ae1b99229258"
  },
  {
   "metadata": {
    "ExecuteTime": {
     "end_time": "2024-10-10T21:28:08.697595Z",
     "start_time": "2024-10-10T21:28:08.695875Z"
    }
   },
   "cell_type": "code",
   "source": [
    "CARRIE = Person(\"Carrie\")\n",
    "reasoner.add([HasParent(AKIRA.iri, BIANCA.iri), HasParent(BIANCA.iri, CARRIE.iri)])"
   ],
   "id": "b329cab0e3bb309b",
   "outputs": [],
   "execution_count": 19
  },
  {
   "metadata": {
    "ExecuteTime": {
     "end_time": "2024-10-10T21:28:08.708098Z",
     "start_time": "2024-10-10T21:28:08.702643Z"
    }
   },
   "cell_type": "code",
   "source": [
    "model = reasoner.model()\n",
    "for t in model.iter_retrieve(\"HasDescendant\"):\n",
    "    print(t)"
   ],
   "id": "fbe79a02c601bdac",
   "outputs": [
    {
     "name": "stdout",
     "output_type": "stream",
     "text": [
      "HasDescendant(Carrie, Bianca)\n",
      "HasDescendant(Bianca, Akira)\n",
      "HasDescendant(Carrie, Akira)\n"
     ]
    }
   ],
   "execution_count": 20
  },
  {
   "metadata": {
    "ExecuteTime": {
     "end_time": "2024-10-10T21:28:08.725009Z",
     "start_time": "2024-10-10T21:28:08.723445Z"
    }
   },
   "cell_type": "code",
   "source": "assert len(list(model.iter_retrieve(\"HasDescendant\"))) == 3",
   "id": "50b78d296112abf5",
   "outputs": [],
   "execution_count": 21
  },
  {
   "metadata": {},
   "cell_type": "markdown",
   "source": "As expected we have 3 descendant relationships - two direct and one indirect.",
   "id": "3fd93951be4f27b8"
  },
  {
   "metadata": {},
   "cell_type": "markdown",
   "source": [
    "## Adding a cycle\n",
    "\n",
    "Now we will see what happens when a cycle is introduced, for example: `Alice -> Jie -> Bob -> Alice`"
   ],
   "id": "54022681972d7949"
  },
  {
   "metadata": {
    "ExecuteTime": {
     "end_time": "2024-10-10T21:28:08.745648Z",
     "start_time": "2024-10-10T21:28:08.743683Z"
    }
   },
   "cell_type": "code",
   "source": "reasoner.add(HasParent(CARRIE.iri, AKIRA.iri))",
   "id": "7a8c26a85fd9a5b3",
   "outputs": [],
   "execution_count": 22
  },
  {
   "metadata": {
    "ExecuteTime": {
     "end_time": "2024-10-10T21:28:08.756118Z",
     "start_time": "2024-10-10T21:28:08.750859Z"
    }
   },
   "cell_type": "code",
   "source": "assert reasoner.coherent() is False",
   "id": "693dc5c4e564ef28",
   "outputs": [],
   "execution_count": 23
  },
  {
   "metadata": {},
   "cell_type": "markdown",
   "source": "The ontology is correctly inferred to be incoherent.",
   "id": "b35c1cabb1aa84b2"
  },
  {
   "metadata": {},
   "cell_type": "markdown",
   "source": [
    "## Multiple Models\n",
    "\n",
    "Next, we will introduce uncertainty into the knowledge base. We will add an assertion that one of the following is true:\n",
    "\n",
    "  - `HasParent(Carrie, Deepa)`\n",
    "  - `HasParent(Carrie, Dmitri)`\n",
    " \n",
    "Formally, this introduces multiple alternate *models*. The term \"model\" here is used in the sense of model-theoretic semantics,\n",
    "you can think of this as being \"possible worlds\" where the axioms are true.\n",
    "\n",
    "Depending on the underlying Solver, we may be able to enumerate all models. Here we will use the default solver, Clingo, which is based\n",
    "in Answer Set Programming (ASP), which supports this."
   ],
   "id": "85a6ca41377b7cc2"
  },
  {
   "metadata": {
    "ExecuteTime": {
     "end_time": "2024-10-10T21:28:08.770856Z",
     "start_time": "2024-10-10T21:28:08.765383Z"
    }
   },
   "cell_type": "code",
   "source": [
    "reasoner.remove(HasParent(CARRIE.iri, AKIRA.iri))\n",
    "assert reasoner.coherent()\n"
   ],
   "id": "53180b80b3e44708",
   "outputs": [],
   "execution_count": 24
  },
  {
   "metadata": {
    "ExecuteTime": {
     "end_time": "2024-10-10T21:28:08.783363Z",
     "start_time": "2024-10-10T21:28:08.781302Z"
    }
   },
   "cell_type": "code",
   "source": [
    "from typedlogic import ExactlyOne\n",
    "DEEPA = Person(\"Deepa\")\n",
    "DMITRI = Person(\"Dmitri\")\n",
    "reasoner.add(ExactlyOne(HasParent(CARRIE.iri, DEEPA.iri), HasParent(CARRIE.iri, DMITRI.iri)))"
   ],
   "id": "7b1160e178b017de",
   "outputs": [],
   "execution_count": 25
  },
  {
   "metadata": {
    "ExecuteTime": {
     "end_time": "2024-10-10T21:28:08.796381Z",
     "start_time": "2024-10-10T21:28:08.789823Z"
    }
   },
   "cell_type": "code",
   "source": [
    "for n, model in enumerate(reasoner.model_iter()):\n",
    "    print(\"Model\", n)\n",
    "    for t in model.iter_retrieve(\"HasAncestor\", AKIRA.iri):\n",
    "        print(\" .. \", t)"
   ],
   "id": "a05b252accbf3003",
   "outputs": [
    {
     "name": "stdout",
     "output_type": "stream",
     "text": [
      "Model 0\n",
      " ..  HasAncestor(Akira, Bianca)\n",
      " ..  HasAncestor(Akira, Carrie)\n",
      " ..  HasAncestor(Akira, Dmitri)\n",
      "Model 1\n",
      " ..  HasAncestor(Akira, Bianca)\n",
      " ..  HasAncestor(Akira, Carrie)\n",
      " ..  HasAncestor(Akira, Deepa)\n"
     ]
    }
   ],
   "execution_count": 26
  },
  {
   "metadata": {},
   "cell_type": "markdown",
   "source": "## Classification Example",
   "id": "4235f377fb5761e1"
  },
  {
   "metadata": {
    "ExecuteTime": {
     "end_time": "2024-10-10T21:28:08.813323Z",
     "start_time": "2024-10-10T21:28:08.811388Z"
    }
   },
   "cell_type": "code",
   "source": [
    "from typedlogic.integrations.frameworks.owldl import ObjectIntersectionOf\n",
    "\n",
    "class Parent(Thing):\n",
    "    \"\"\"A parent of a person.\"\"\"\n",
    "    equivalent_to = ObjectIntersectionOf(Person, HasParent.some(Person))"
   ],
   "id": "1838877ca9035535",
   "outputs": [],
   "execution_count": 27
  },
  {
   "metadata": {
    "ExecuteTime": {
     "end_time": "2024-10-10T21:28:08.831053Z",
     "start_time": "2024-10-10T21:28:08.829086Z"
    }
   },
   "cell_type": "code",
   "source": [
    "for s in Parent.to_sentences():\n",
    "    print(s)"
   ],
   "id": "47662f93b22ad2a9",
   "outputs": [
    {
     "name": "stdout",
     "output_type": "stream",
     "text": [
      "∀I: None : (Parent(?I) -> Thing(?I))\n",
      "∀I: None : (Parent(?I) <-> (Person(?I)) & (∃(HasParent(?I, ?J)) & (Person(?J))))\n"
     ]
    }
   ],
   "execution_count": 28
  },
  {
   "metadata": {
    "ExecuteTime": {
     "end_time": "2024-10-10T21:28:08.854864Z",
     "start_time": "2024-10-10T21:28:08.853034Z"
    }
   },
   "cell_type": "code",
   "source": "reasoner.register(Parent)",
   "id": "d5e4d10aa1c14908",
   "outputs": [],
   "execution_count": 29
  },
  {
   "metadata": {
    "ExecuteTime": {
     "end_time": "2024-10-10T21:28:08.880429Z",
     "start_time": "2024-10-10T21:28:08.872975Z"
    }
   },
   "cell_type": "code",
   "source": [
    "model = reasoner.model()\n",
    "for t in model.iter_retrieve(\"Parent\"):\n",
    "    print(t)"
   ],
   "id": "8ef243bb1a745ad5",
   "outputs": [
    {
     "name": "stdout",
     "output_type": "stream",
     "text": [
      "Parent(Carrie)\n",
      "Parent(Bianca)\n",
      "Parent(Akira)\n"
     ]
    }
   ],
   "execution_count": 30
  },
  {
   "metadata": {},
   "cell_type": "markdown",
   "source": "",
   "id": "2b2587e2e2702597"
  },
  {
   "metadata": {
    "ExecuteTime": {
     "end_time": "2024-10-10T21:28:08.895346Z",
     "start_time": "2024-10-10T21:28:08.893612Z"
    }
   },
   "cell_type": "code",
   "source": "assert len(list(model.iter_retrieve(\"Parent\"))) == 3",
   "id": "5f2bc77b194f5c8e",
   "outputs": [],
   "execution_count": 31
  },
  {
   "metadata": {},
   "cell_type": "markdown",
   "source": [
    "## Next Steps\n",
    "\n",
    "Consult the documentation for the various OWL constructs. These all follow the OWL2 Functional Syntax, and for attribute\n",
    "names we follow py-horned-owl as far as possible."
   ],
   "id": "e10fa463eabfd8aa"
  },
  {
   "metadata": {
    "ExecuteTime": {
     "end_time": "2024-10-10T21:28:08.913542Z",
     "start_time": "2024-10-10T21:28:08.912283Z"
    }
   },
   "cell_type": "code",
   "source": "",
   "id": "5c6fa96583101c91",
   "outputs": [],
   "execution_count": null
  }
 ],
 "metadata": {
  "kernelspec": {
   "display_name": "Python 3",
   "language": "python",
   "name": "python3"
  },
  "language_info": {
   "codemirror_mode": {
    "name": "ipython",
    "version": 2
   },
   "file_extension": ".py",
   "mimetype": "text/x-python",
   "name": "python",
   "nbconvert_exporter": "python",
   "pygments_lexer": "ipython2",
   "version": "2.7.6"
  }
 },
 "nbformat": 4,
 "nbformat_minor": 5
}
